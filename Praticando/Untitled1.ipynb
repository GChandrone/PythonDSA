{
 "cells": [
  {
   "cell_type": "code",
   "execution_count": 1,
   "id": "a38811a2",
   "metadata": {},
   "outputs": [
    {
     "name": "stdout",
     "output_type": "stream",
     "text": [
      "Área do Terreno: 100\n"
     ]
    }
   ],
   "source": [
    "# Medindo área de um terreno em M²\n",
    "area = 0\n",
    "\n",
    "largura = int(input(\"Largura do Terreno (M²):\"))\n",
    "comprimento = int(input(\"Comprimento do Terreno (M²):\"))\n",
    "\n",
    "area = (largura) * comprimento\n",
    "\n",
    "print (\"Área do Terreno:\", area)"
   ]
  },
  {
   "cell_type": "code",
   "execution_count": null,
   "id": "66a55a57",
   "metadata": {},
   "outputs": [],
   "source": []
  }
 ],
 "metadata": {
  "kernelspec": {
   "display_name": "Python 3 (ipykernel)",
   "language": "python",
   "name": "python3"
  },
  "language_info": {
   "codemirror_mode": {
    "name": "ipython",
    "version": 3
   },
   "file_extension": ".py",
   "mimetype": "text/x-python",
   "name": "python",
   "nbconvert_exporter": "python",
   "pygments_lexer": "ipython3",
   "version": "3.9.13"
  }
 },
 "nbformat": 4,
 "nbformat_minor": 5
}

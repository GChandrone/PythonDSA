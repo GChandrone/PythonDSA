{
 "cells": [
  {
   "cell_type": "markdown",
   "id": "4e36b8d9",
   "metadata": {},
   "source": [
    "# <font color='blue'>Data Science Academy</font>\n",
    "\n",
    "## <font color='blue'>Fundamentos de Linguagem Python Para Análise de Dados e Data Science</font>\n",
    "\n",
    "## <font color='blue'>Introdução a Deep Learning com TensorFlow</font>\n",
    "\n",
    "Problema de Negócio:\n",
    "\n",
    "Construir um modelo de Inteligência Artificial capaz de classificar imagens considerando 10 categorias: ['airplane', 'automobile', 'bird', 'cat', 'deer', 'dog', 'frog', 'horse', 'ship', 'truck']. Dada uma nova imagem de uma dessas categorias o modelo deve ser capaz de classificar e indicar o que é a imagem."
   ]
  },
  {
   "cell_type": "markdown",
   "id": "9beba109",
   "metadata": {},
   "source": [
    "![DSA](imagens/dsa_cap17.png)"
   ]
  },
  {
   "cell_type": "code",
   "execution_count": 1,
   "id": "9698ef9f",
   "metadata": {},
   "outputs": [
    {
     "name": "stdout",
     "output_type": "stream",
     "text": [
      "Versão da Linguagem Python Usada Neste Jupyter Notebook: 3.9.13\n"
     ]
    }
   ],
   "source": [
    "# Versão da Linguagem Python\n",
    "from platform import python_version\n",
    "print('Versão da Linguagem Python Usada Neste Jupyter Notebook:', python_version())"
   ]
  },
  {
   "cell_type": "markdown",
   "id": "651891af",
   "metadata": {},
   "source": [
    "https://www.tensorflow.org/\n",
    "\n",
    "**ATENÇÃO**: O TensorFlow pode apresentar problemas em algumas versões de sistema operacional. Verifique a documentação oficial no link acima."
   ]
  },
  {
   "cell_type": "code",
   "execution_count": null,
   "id": "ec8de2b5",
   "metadata": {},
   "outputs": [],
   "source": []
  },
  {
   "cell_type": "markdown",
   "id": "826f6b4f",
   "metadata": {},
   "source": [
    "## Carregando os Dados\n",
    "\n",
    "https://www.cs.toronto.edu/~kriz/cifar.html"
   ]
  },
  {
   "cell_type": "markdown",
   "id": "f0d9dd71",
   "metadata": {},
   "source": [
    "## Construção do Modelo\n",
    "\n",
    "Construção de modelos é estudada nas Formações: <a href=\"https://www.datascienceacademy.com.br/bundle/formacao-cientista-de-dados\">Formação Cientista de Dados</a> e <a href=\"https://www.datascienceacademy.com.br/bundle/formacao-engenheiro-de-ia\">Formação Engenheiro de IA</a>.\n",
    "\n",
    "www.deeplearningbook.com.br\n",
    "\n",
    "![DSA](imagens/convnet.jpg)"
   ]
  },
  {
   "cell_type": "code",
   "execution_count": null,
   "id": "165175a0",
   "metadata": {},
   "outputs": [],
   "source": []
  }
 ],
 "metadata": {
  "kernelspec": {
   "display_name": "Python 3 (ipykernel)",
   "language": "python",
   "name": "python3"
  },
  "language_info": {
   "codemirror_mode": {
    "name": "ipython",
    "version": 3
   },
   "file_extension": ".py",
   "mimetype": "text/x-python",
   "name": "python",
   "nbconvert_exporter": "python",
   "pygments_lexer": "ipython3",
   "version": "3.9.13"
  }
 },
 "nbformat": 4,
 "nbformat_minor": 5
}

{
 "cells": [
  {
   "cell_type": "code",
   "execution_count": 1,
   "id": "d7b05034",
   "metadata": {},
   "outputs": [
    {
     "name": "stdout",
     "output_type": "stream",
     "text": [
      "Versão da Linguagem Python Usada Neste Jupyter Notebook: 3.9.13\n"
     ]
    }
   ],
   "source": [
    "# Versão da Linguagem Python\n",
    "from platform import python_version\n",
    "print('Versão da Linguagem Python Usada Neste Jupyter Notebook:', python_version())"
   ]
  },
  {
   "cell_type": "markdown",
   "id": "0ac74ebd",
   "metadata": {},
   "source": [
    "## Matplotlib\n",
    "\n",
    "https://matplotlib.org/\n",
    "\n",
    "Matplotlib é uma biblioteca de visualização de dados em Python amplamente utilizada para criar gráficos e visualizações de alta qualidade em diversas áreas, como ciência de dados, engenharia, finanças, estatística, entre outras. É uma biblioteca extremamente poderosa, flexível e personalizável, que permite a criação de gráficos em 2D e 3D, histogramas, diagramas de dispersão, gráficos de linhas, entre outros.\n",
    "\n",
    "O Matplotlib oferece uma grande variedade de estilos de plotagem, tipos de gráficos e configurações de plotagem para personalização de gráficos. Ele é compatível com vários formatos de arquivos de imagem, como PNG, PDF, SVG, entre outros, permitindo a geração de imagens de alta qualidade para uso em publicações e apresentações.\n",
    "\n",
    "Além disso, o Matplotlib é uma biblioteca de código aberto e gratuita, com uma comunidade ativa de desenvolvedores e usuários, o que significa que há uma grande quantidade de documentação, exemplos e suporte disponíveis online."
   ]
  },
  {
   "cell_type": "code",
   "execution_count": 2,
   "id": "c259e282",
   "metadata": {},
   "outputs": [],
   "source": [
    "# Instala a versão exata do pacote\n",
    "!pip install -q matplotlib==3.7.1"
   ]
  },
  {
   "cell_type": "code",
   "execution_count": 3,
   "id": "1c745dce",
   "metadata": {},
   "outputs": [],
   "source": [
    "import matplotlib as mpl"
   ]
  },
  {
   "cell_type": "code",
   "execution_count": 5,
   "id": "e67eb615",
   "metadata": {},
   "outputs": [
    {
     "data": {
      "text/plain": [
       "'3.7.1'"
      ]
     },
     "execution_count": 5,
     "metadata": {},
     "output_type": "execute_result"
    }
   ],
   "source": [
    "mpl.__version__"
   ]
  }
 ],
 "metadata": {
  "kernelspec": {
   "display_name": "Python 3 (ipykernel)",
   "language": "python",
   "name": "python3"
  },
  "language_info": {
   "codemirror_mode": {
    "name": "ipython",
    "version": 3
   },
   "file_extension": ".py",
   "mimetype": "text/x-python",
   "name": "python",
   "nbconvert_exporter": "python",
   "pygments_lexer": "ipython3",
   "version": "3.9.13"
  }
 },
 "nbformat": 4,
 "nbformat_minor": 5
}

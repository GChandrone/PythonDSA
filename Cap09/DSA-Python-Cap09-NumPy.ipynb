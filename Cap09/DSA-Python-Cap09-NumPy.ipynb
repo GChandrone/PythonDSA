{
 "cells": [
  {
   "cell_type": "code",
   "execution_count": 3,
   "id": "0c5ddd6d",
   "metadata": {},
   "outputs": [
    {
     "name": "stdout",
     "output_type": "stream",
     "text": [
      "Versão da Linguagem Python Usada Neste Jupyter Notebook: 3.9.13\n"
     ]
    }
   ],
   "source": [
    "# Versão da Linguagem Python\n",
    "from platform import python_version\n",
    "print('Versão da Linguagem Python Usada Neste Jupyter Notebook:', python_version())"
   ]
  },
  {
   "cell_type": "markdown",
   "id": "b5eeb2cd",
   "metadata": {},
   "source": [
    "# NumPy\n",
    "\n",
    "https://numpy.org/"
   ]
  },
  {
   "cell_type": "code",
   "execution_count": 4,
   "id": "d2866bcc",
   "metadata": {},
   "outputs": [],
   "source": [
    "# Importando o NumPy\n",
    "import numpy as np"
   ]
  },
  {
   "cell_type": "code",
   "execution_count": 5,
   "id": "fd25d127",
   "metadata": {},
   "outputs": [
    {
     "data": {
      "text/plain": [
       "'1.25.2'"
      ]
     },
     "execution_count": 5,
     "metadata": {},
     "output_type": "execute_result"
    }
   ],
   "source": [
    "np.__version__"
   ]
  },
  {
   "cell_type": "markdown",
   "id": "6d3283bd",
   "metadata": {},
   "source": [
    "# Criando Arrays NumPy"
   ]
  },
  {
   "cell_type": "code",
   "execution_count": 6,
   "id": "29be4724",
   "metadata": {},
   "outputs": [],
   "source": [
    "# Array criado a partir de uma lista Python\n",
    "array = np.array([10, 21, 32, 43, 48, 15, 76, 57, 89])"
   ]
  },
  {
   "cell_type": "code",
   "execution_count": 7,
   "id": "8224dbef",
   "metadata": {},
   "outputs": [
    {
     "name": "stdout",
     "output_type": "stream",
     "text": [
      "[10 21 32 43 48 15 76 57 89]\n"
     ]
    }
   ],
   "source": [
    "print(array)"
   ]
  },
  {
   "cell_type": "code",
   "execution_count": 8,
   "id": "67e253ce",
   "metadata": {},
   "outputs": [
    {
     "data": {
      "text/plain": [
       "numpy.ndarray"
      ]
     },
     "execution_count": 8,
     "metadata": {},
     "output_type": "execute_result"
    }
   ],
   "source": [
    "# Um objeto do tipo ndarray é um recipiente multidimensional de itens do mesmo tipo e tamanho\n",
    "type(array)"
   ]
  },
  {
   "cell_type": "code",
   "execution_count": 9,
   "id": "b2da2456",
   "metadata": {},
   "outputs": [
    {
     "data": {
      "text/plain": [
       "(9,)"
      ]
     },
     "execution_count": 9,
     "metadata": {},
     "output_type": "execute_result"
    }
   ],
   "source": [
    "# Verificando o formato do array\n",
    "array.shape"
   ]
  },
  {
   "cell_type": "markdown",
   "id": "bd39e4c1",
   "metadata": {},
   "source": [
    "Um array NumPy é uma estrutura de dados multidimensional usada em computação científica e análise de dados. O NumPy fornece um objeto de matriz N-dimensional (ou ndarray), que é uma grade homogênea de elementos, geralmente números, que podem ser indexados por um conjunto de inteiros.\n",
    "\n",
    "Os arrays NumPy são mais eficientes do que as listas Python para armazenar e manipular grandes quantidades de dados, pois são implementados em Linguagem C e fornecem várias otimizações de desempenho. Além disso, o NumPy permite a fácil leitura e escrita de arquivos de dados, integração com outras bibliotecas Python e suporte a operações em paralelo usando várias CPUs ou GPUs."
   ]
  },
  {
   "cell_type": "markdown",
   "id": "a1eb5d3b",
   "metadata": {},
   "source": [
    "![DSA](imagens/formatos.png)"
   ]
  },
  {
   "cell_type": "markdown",
   "id": "ad553cc8",
   "metadata": {},
   "source": [
    "# Indexação em Arrays Numpy"
   ]
  },
  {
   "cell_type": "code",
   "execution_count": 10,
   "id": "b5fea0c3",
   "metadata": {},
   "outputs": [
    {
     "name": "stdout",
     "output_type": "stream",
     "text": [
      "[10 21 32 43 48 15 76 57 89]\n"
     ]
    }
   ],
   "source": [
    "print(array)"
   ]
  },
  {
   "cell_type": "code",
   "execution_count": 11,
   "id": "8be89e94",
   "metadata": {},
   "outputs": [
    {
     "data": {
      "text/plain": [
       "48"
      ]
     },
     "execution_count": 11,
     "metadata": {},
     "output_type": "execute_result"
    }
   ],
   "source": [
    "# Imprimindo um elemento específico no array\n",
    "array[4]"
   ]
  },
  {
   "cell_type": "code",
   "execution_count": 12,
   "id": "7f9d5b75",
   "metadata": {},
   "outputs": [
    {
     "data": {
      "text/plain": [
       "array([21, 32, 43])"
      ]
     },
     "execution_count": 12,
     "metadata": {},
     "output_type": "execute_result"
    }
   ],
   "source": [
    "# Indexação, o último índice é exclusivo\n",
    "array[1:4]"
   ]
  },
  {
   "cell_type": "code",
   "execution_count": 13,
   "id": "bd20d4c1",
   "metadata": {},
   "outputs": [
    {
     "data": {
      "text/plain": [
       "array([21, 32, 43, 48])"
      ]
     },
     "execution_count": 13,
     "metadata": {},
     "output_type": "execute_result"
    }
   ],
   "source": [
    "# Indexação \n",
    "array[1:4+1]"
   ]
  },
  {
   "cell_type": "code",
   "execution_count": 14,
   "id": "86d2842e",
   "metadata": {},
   "outputs": [],
   "source": [
    "# Cria uma lista de índices\n",
    "indices = [1, 2, 5, 6]"
   ]
  },
  {
   "cell_type": "code",
   "execution_count": 15,
   "id": "6ed4d05e",
   "metadata": {},
   "outputs": [
    {
     "data": {
      "text/plain": [
       "array([21, 32, 15, 76])"
      ]
     },
     "execution_count": 15,
     "metadata": {},
     "output_type": "execute_result"
    }
   ],
   "source": [
    "# Imprimindo os elementos dos índices\n",
    "array[indices]"
   ]
  },
  {
   "cell_type": "code",
   "execution_count": 16,
   "id": "71044837",
   "metadata": {},
   "outputs": [],
   "source": [
    "# Cria uma máscara booleana para os elementos pares\n",
    "mask = (array % 2 == 0)"
   ]
  },
  {
   "cell_type": "code",
   "execution_count": 17,
   "id": "bb10f517",
   "metadata": {},
   "outputs": [
    {
     "data": {
      "text/plain": [
       "array([ True, False,  True, False,  True, False,  True, False, False])"
      ]
     },
     "execution_count": 17,
     "metadata": {},
     "output_type": "execute_result"
    }
   ],
   "source": [
    "mask"
   ]
  },
  {
   "cell_type": "code",
   "execution_count": 18,
   "id": "e5390842",
   "metadata": {},
   "outputs": [
    {
     "data": {
      "text/plain": [
       "array([10, 32, 48, 76])"
      ]
     },
     "execution_count": 18,
     "metadata": {},
     "output_type": "execute_result"
    }
   ],
   "source": [
    "array[mask]"
   ]
  },
  {
   "cell_type": "code",
   "execution_count": 19,
   "id": "3af7acdc",
   "metadata": {},
   "outputs": [],
   "source": [
    "# Alterando um elemento do array\n",
    "array[0] = 100"
   ]
  },
  {
   "cell_type": "code",
   "execution_count": 20,
   "id": "be353ae9",
   "metadata": {},
   "outputs": [
    {
     "name": "stdout",
     "output_type": "stream",
     "text": [
      "[100  21  32  43  48  15  76  57  89]\n"
     ]
    }
   ],
   "source": [
    "print(array)"
   ]
  },
  {
   "cell_type": "code",
   "execution_count": 21,
   "id": "92148b64",
   "metadata": {},
   "outputs": [
    {
     "name": "stdout",
     "output_type": "stream",
     "text": [
      "Operação não permitida\n"
     ]
    }
   ],
   "source": [
    "# Não é possível incluir elemento de outro tipo \n",
    "try:\n",
    "    array[0] = 'Novo Elemento'\n",
    "except:\n",
    "    print('Operação não permitida')"
   ]
  },
  {
   "cell_type": "code",
   "execution_count": 22,
   "id": "d118e19d",
   "metadata": {},
   "outputs": [],
   "source": [
    "#array[0] = 'Novo Elemento'"
   ]
  },
  {
   "cell_type": "markdown",
   "id": "44c08852",
   "metadata": {},
   "source": [
    "# Funções NumPy"
   ]
  },
  {
   "cell_type": "code",
   "execution_count": 23,
   "id": "1fbc853b",
   "metadata": {},
   "outputs": [],
   "source": [
    "# A função array() cria um array NumPy\n",
    "arr2 = np.array([1,2,3,4,5])"
   ]
  },
  {
   "cell_type": "code",
   "execution_count": 24,
   "id": "fe1281d8",
   "metadata": {},
   "outputs": [
    {
     "name": "stdout",
     "output_type": "stream",
     "text": [
      "[1 2 3 4 5]\n"
     ]
    }
   ],
   "source": [
    "print(arr2)"
   ]
  },
  {
   "cell_type": "code",
   "execution_count": 25,
   "id": "c0c74d24",
   "metadata": {},
   "outputs": [
    {
     "data": {
      "text/plain": [
       "numpy.ndarray"
      ]
     },
     "execution_count": 25,
     "metadata": {},
     "output_type": "execute_result"
    }
   ],
   "source": [
    "# Verificando o tipo do objeto\n",
    "type(arr2)"
   ]
  },
  {
   "cell_type": "code",
   "execution_count": 26,
   "id": "c6566d70",
   "metadata": {},
   "outputs": [
    {
     "data": {
      "text/plain": [
       "array([1, 2, 3, 4, 5])"
      ]
     },
     "execution_count": 26,
     "metadata": {},
     "output_type": "execute_result"
    }
   ],
   "source": [
    "# Digite . e pressione a tecla Tab no seu teclado para visualizar os métodos disponíveis em objetos NumPy\n",
    "arr2"
   ]
  },
  {
   "cell_type": "code",
   "execution_count": 27,
   "id": "545f4a93",
   "metadata": {},
   "outputs": [
    {
     "data": {
      "text/plain": [
       "array([ 1,  3,  6, 10, 15])"
      ]
     },
     "execution_count": 27,
     "metadata": {},
     "output_type": "execute_result"
    }
   ],
   "source": [
    "# Usando o método cumsum (soma acumulada)\n",
    "arr2.cumsum()"
   ]
  },
  {
   "cell_type": "code",
   "execution_count": 28,
   "id": "7826637e",
   "metadata": {},
   "outputs": [
    {
     "data": {
      "text/plain": [
       "array([  1,   2,   6,  24, 120])"
      ]
     },
     "execution_count": 28,
     "metadata": {},
     "output_type": "execute_result"
    }
   ],
   "source": [
    "# cumprod (produto acumlado)\n",
    "arr2.cumprod()"
   ]
  },
  {
   "cell_type": "code",
   "execution_count": 29,
   "id": "10780fa9",
   "metadata": {},
   "outputs": [
    {
     "data": {
      "text/plain": [
       "<module 'numpy' from 'C:\\\\Users\\\\gabri\\\\anaconda3\\\\lib\\\\site-packages\\\\numpy\\\\__init__.py'>"
      ]
     },
     "execution_count": 29,
     "metadata": {},
     "output_type": "execute_result"
    }
   ],
   "source": [
    "# Digite . e pressione a tecla Tab no seu teclado para visualizar os métodos disponíveis em objetos NumPy\n",
    "np"
   ]
  },
  {
   "cell_type": "code",
   "execution_count": 30,
   "id": "32d6b7d5",
   "metadata": {},
   "outputs": [],
   "source": [
    "# A função arange cria um array NumPy contendo uma progressão aritmética a partir de um intervalo - start, stop, step\n",
    "arr3 = np.arange(0, 100, 5)"
   ]
  },
  {
   "cell_type": "code",
   "execution_count": 31,
   "id": "78ad404f",
   "metadata": {},
   "outputs": [
    {
     "name": "stdout",
     "output_type": "stream",
     "text": [
      "[ 0  5 10 15 20 25 30 35 40 45 50 55 60 65 70 75 80 85 90 95]\n"
     ]
    }
   ],
   "source": [
    "print(arr3)"
   ]
  },
  {
   "cell_type": "code",
   "execution_count": 32,
   "id": "aec3ebaa",
   "metadata": {},
   "outputs": [
    {
     "data": {
      "text/plain": [
       "numpy.ndarray"
      ]
     },
     "execution_count": 32,
     "metadata": {},
     "output_type": "execute_result"
    }
   ],
   "source": [
    "# Verificando o tipo do objeto\n",
    "type(arr3)"
   ]
  },
  {
   "cell_type": "code",
   "execution_count": 33,
   "id": "b3335da2",
   "metadata": {},
   "outputs": [
    {
     "data": {
      "text/plain": [
       "(20,)"
      ]
     },
     "execution_count": 33,
     "metadata": {},
     "output_type": "execute_result"
    }
   ],
   "source": [
    "# Formato do array\n",
    "np.shape(arr3)"
   ]
  },
  {
   "cell_type": "code",
   "execution_count": 34,
   "id": "8cc44269",
   "metadata": {},
   "outputs": [
    {
     "name": "stdout",
     "output_type": "stream",
     "text": [
      "int32\n"
     ]
    }
   ],
   "source": [
    "print(arr3.dtype)"
   ]
  },
  {
   "cell_type": "code",
   "execution_count": 35,
   "id": "43b2060b",
   "metadata": {},
   "outputs": [],
   "source": [
    "# Cria um array preenchendo com zeros\n",
    "arr4 = np.zeros(10)"
   ]
  },
  {
   "cell_type": "code",
   "execution_count": 36,
   "id": "a83804b9",
   "metadata": {},
   "outputs": [
    {
     "name": "stdout",
     "output_type": "stream",
     "text": [
      "[0. 0. 0. 0. 0. 0. 0. 0. 0. 0.]\n"
     ]
    }
   ],
   "source": [
    "print(arr4)"
   ]
  },
  {
   "cell_type": "code",
   "execution_count": 37,
   "id": "aa79e7f4",
   "metadata": {},
   "outputs": [],
   "source": [
    "# Retorna 1 nas posições em diagonal e 0 no restante. [Matriz Identidade]\n",
    "arr5 = np.eye(3)"
   ]
  },
  {
   "cell_type": "code",
   "execution_count": 38,
   "id": "bd750a89",
   "metadata": {},
   "outputs": [
    {
     "name": "stdout",
     "output_type": "stream",
     "text": [
      "[[1. 0. 0.]\n",
      " [0. 1. 0.]\n",
      " [0. 0. 1.]]\n"
     ]
    }
   ],
   "source": [
    "print(arr5)"
   ]
  },
  {
   "cell_type": "code",
   "execution_count": 39,
   "id": "699b144e",
   "metadata": {},
   "outputs": [],
   "source": [
    "# Os valores passados como parâmetros, formam uma diagonal. [Matriz Diagonal]\n",
    "arr6 = np.diag(np.array([1,2,3,4]))"
   ]
  },
  {
   "cell_type": "code",
   "execution_count": 40,
   "id": "086e3891",
   "metadata": {},
   "outputs": [
    {
     "name": "stdout",
     "output_type": "stream",
     "text": [
      "[[1 0 0 0]\n",
      " [0 2 0 0]\n",
      " [0 0 3 0]\n",
      " [0 0 0 4]]\n"
     ]
    }
   ],
   "source": [
    "print(arr6)"
   ]
  },
  {
   "cell_type": "code",
   "execution_count": 41,
   "id": "d9173046",
   "metadata": {},
   "outputs": [],
   "source": [
    "# Array com valores booleanos \n",
    "arr7 = np.array([True, False, False, True])"
   ]
  },
  {
   "cell_type": "code",
   "execution_count": 42,
   "id": "09978102",
   "metadata": {},
   "outputs": [
    {
     "name": "stdout",
     "output_type": "stream",
     "text": [
      "[ True False False  True]\n"
     ]
    }
   ],
   "source": [
    "print(arr7)"
   ]
  },
  {
   "cell_type": "code",
   "execution_count": 43,
   "id": "99d467c5",
   "metadata": {},
   "outputs": [],
   "source": [
    "# Array de strings\n",
    "arr8 = np.array(['Linguagem Python', 'Linguagem R', 'Linguagem Julia'])"
   ]
  },
  {
   "cell_type": "code",
   "execution_count": 44,
   "id": "1433f606",
   "metadata": {},
   "outputs": [
    {
     "name": "stdout",
     "output_type": "stream",
     "text": [
      "['Linguagem Python' 'Linguagem R' 'Linguagem Julia']\n"
     ]
    }
   ],
   "source": [
    "print(arr8)"
   ]
  },
  {
   "cell_type": "markdown",
   "id": "37063355",
   "metadata": {},
   "source": [
    "A função linspace() do NumPy é usada para criar uma sequência de números igualmente espaçados dentro de um intervalo especificado. Essa função é amplamente utilizada em programação científica e matemática para gerar arrays de números para diversos fins, como gráficos, cálculos e simulações.\n",
    "\n",
    "O método linspace (linearly spaced vector) retorna um número de valores igualmente distribuídos no intervalo especificado. "
   ]
  },
  {
   "cell_type": "code",
   "execution_count": 45,
   "id": "6a0e6ac5",
   "metadata": {},
   "outputs": [
    {
     "name": "stdout",
     "output_type": "stream",
     "text": [
      "[ 0.          0.20408163  0.40816327  0.6122449   0.81632653  1.02040816\n",
      "  1.2244898   1.42857143  1.63265306  1.83673469  2.04081633  2.24489796\n",
      "  2.44897959  2.65306122  2.85714286  3.06122449  3.26530612  3.46938776\n",
      "  3.67346939  3.87755102  4.08163265  4.28571429  4.48979592  4.69387755\n",
      "  4.89795918  5.10204082  5.30612245  5.51020408  5.71428571  5.91836735\n",
      "  6.12244898  6.32653061  6.53061224  6.73469388  6.93877551  7.14285714\n",
      "  7.34693878  7.55102041  7.75510204  7.95918367  8.16326531  8.36734694\n",
      "  8.57142857  8.7755102   8.97959184  9.18367347  9.3877551   9.59183673\n",
      "  9.79591837 10.        ]\n"
     ]
    }
   ],
   "source": [
    "print(np.linspace(0, 10))"
   ]
  },
  {
   "cell_type": "code",
   "execution_count": 46,
   "id": "b376f86c",
   "metadata": {},
   "outputs": [
    {
     "name": "stdout",
     "output_type": "stream",
     "text": [
      "[ 0.          0.71428571  1.42857143  2.14285714  2.85714286  3.57142857\n",
      "  4.28571429  5.          5.71428571  6.42857143  7.14285714  7.85714286\n",
      "  8.57142857  9.28571429 10.        ]\n"
     ]
    }
   ],
   "source": [
    "print(np.linspace(0, 10, 15))"
   ]
  },
  {
   "cell_type": "markdown",
   "id": "0e845940",
   "metadata": {},
   "source": [
    "A função logspace() do NumPy é usada para criar uma sequência de números igualmente espaçados em escala logarítmica dentro de um intervalo especificado. Essa função é amplamente utilizada em programação científica e matemática para gerar arrays de números para diversos fins, como gráficos, cálculos e simulações."
   ]
  },
  {
   "cell_type": "code",
   "execution_count": 47,
   "id": "bb90560d",
   "metadata": {},
   "outputs": [
    {
     "name": "stdout",
     "output_type": "stream",
     "text": [
      "[1.00000000e+00 3.59381366e+00 1.29154967e+01 4.64158883e+01\n",
      " 1.66810054e+02 5.99484250e+02 2.15443469e+03 7.74263683e+03\n",
      " 2.78255940e+04 1.00000000e+05]\n"
     ]
    }
   ],
   "source": [
    "print(np.logspace(0,5,10))"
   ]
  },
  {
   "cell_type": "markdown",
   "id": "ebc93bc2",
   "metadata": {},
   "source": [
    "# Manipulando Matrizes"
   ]
  },
  {
   "cell_type": "code",
   "execution_count": 48,
   "id": "6970aadb",
   "metadata": {},
   "outputs": [],
   "source": [
    "# Criando uma matriz\n",
    "arr9 = np.array([ [1,2,3] , [4,5,6] ])"
   ]
  },
  {
   "cell_type": "code",
   "execution_count": 49,
   "id": "db0ad8fb",
   "metadata": {},
   "outputs": [
    {
     "data": {
      "text/plain": [
       "numpy.ndarray"
      ]
     },
     "execution_count": 49,
     "metadata": {},
     "output_type": "execute_result"
    }
   ],
   "source": [
    "type(arr9)"
   ]
  },
  {
   "cell_type": "code",
   "execution_count": 50,
   "id": "7631bac0",
   "metadata": {},
   "outputs": [
    {
     "name": "stdout",
     "output_type": "stream",
     "text": [
      "[[1 2 3]\n",
      " [4 5 6]]\n"
     ]
    }
   ],
   "source": [
    "print(arr9)"
   ]
  },
  {
   "cell_type": "code",
   "execution_count": 51,
   "id": "d4374011",
   "metadata": {},
   "outputs": [
    {
     "name": "stdout",
     "output_type": "stream",
     "text": [
      "(2, 3)\n"
     ]
    }
   ],
   "source": [
    "print(arr9.shape)"
   ]
  },
  {
   "cell_type": "code",
   "execution_count": 52,
   "id": "9725c300",
   "metadata": {},
   "outputs": [],
   "source": [
    "# Criando uma matriz 2x3 apenas com números \"1\"\n",
    "arr10 = np.ones((2,3))"
   ]
  },
  {
   "cell_type": "code",
   "execution_count": 53,
   "id": "57c468c6",
   "metadata": {},
   "outputs": [
    {
     "name": "stdout",
     "output_type": "stream",
     "text": [
      "[[1. 1. 1.]\n",
      " [1. 1. 1.]]\n"
     ]
    }
   ],
   "source": [
    "print(arr10)"
   ]
  },
  {
   "cell_type": "code",
   "execution_count": 54,
   "id": "e8307876",
   "metadata": {},
   "outputs": [],
   "source": [
    "# Lista de listas\n",
    "lista = [ [12,81,22], [0,34,59], [21,48,94] ]"
   ]
  },
  {
   "cell_type": "code",
   "execution_count": 55,
   "id": "7ab66702",
   "metadata": {},
   "outputs": [],
   "source": [
    "# A função matrix cria uma matriz a partir de uma lista de listas\n",
    "arr11 = np.matrix(lista)"
   ]
  },
  {
   "cell_type": "code",
   "execution_count": 56,
   "id": "ad2eddd4",
   "metadata": {},
   "outputs": [
    {
     "data": {
      "text/plain": [
       "numpy.matrix"
      ]
     },
     "execution_count": 56,
     "metadata": {},
     "output_type": "execute_result"
    }
   ],
   "source": [
    "type(arr11)"
   ]
  },
  {
   "cell_type": "code",
   "execution_count": 57,
   "id": "0a3f6384",
   "metadata": {},
   "outputs": [
    {
     "name": "stdout",
     "output_type": "stream",
     "text": [
      "[[12 81 22]\n",
      " [ 0 34 59]\n",
      " [21 48 94]]\n"
     ]
    }
   ],
   "source": [
    "print(arr11)"
   ]
  },
  {
   "cell_type": "code",
   "execution_count": 58,
   "id": "9edf867a",
   "metadata": {},
   "outputs": [
    {
     "data": {
      "text/plain": [
       "(3, 3)"
      ]
     },
     "execution_count": 58,
     "metadata": {},
     "output_type": "execute_result"
    }
   ],
   "source": [
    "# Formato da matriz\n",
    "np.shape(arr11)"
   ]
  },
  {
   "cell_type": "code",
   "execution_count": 59,
   "id": "33abbcfc",
   "metadata": {},
   "outputs": [
    {
     "data": {
      "text/plain": [
       "9"
      ]
     },
     "execution_count": 59,
     "metadata": {},
     "output_type": "execute_result"
    }
   ],
   "source": [
    "# Tamanho da matriz\n",
    "arr11.size"
   ]
  },
  {
   "cell_type": "code",
   "execution_count": 60,
   "id": "bb5b6f07",
   "metadata": {},
   "outputs": [
    {
     "name": "stdout",
     "output_type": "stream",
     "text": [
      "int32\n"
     ]
    }
   ],
   "source": [
    "print(arr11.dtype)"
   ]
  },
  {
   "cell_type": "code",
   "execution_count": 61,
   "id": "caa43ca8",
   "metadata": {},
   "outputs": [
    {
     "name": "stdout",
     "output_type": "stream",
     "text": [
      "[[12 81 22]\n",
      " [ 0 34 59]\n",
      " [21 48 94]]\n"
     ]
    }
   ],
   "source": [
    "print(arr11)"
   ]
  },
  {
   "cell_type": "code",
   "execution_count": 62,
   "id": "9f0259fb",
   "metadata": {},
   "outputs": [
    {
     "data": {
      "text/plain": [
       "48"
      ]
     },
     "execution_count": 62,
     "metadata": {},
     "output_type": "execute_result"
    }
   ],
   "source": [
    "# Indexação da matriz\n",
    "# Linha de índice 2 e coluna de índice 1\n",
    "arr11[2,1]"
   ]
  },
  {
   "cell_type": "code",
   "execution_count": 63,
   "id": "a259caa7",
   "metadata": {},
   "outputs": [
    {
     "data": {
      "text/plain": [
       "matrix([[22],\n",
       "        [59]])"
      ]
     },
     "execution_count": 63,
     "metadata": {},
     "output_type": "execute_result"
    }
   ],
   "source": [
    "# Indexação de matriz\n",
    "arr11[0:2,2]"
   ]
  },
  {
   "cell_type": "code",
   "execution_count": 64,
   "id": "9678d166",
   "metadata": {},
   "outputs": [
    {
     "data": {
      "text/plain": [
       "matrix([[ 0, 34, 59]])"
      ]
     },
     "execution_count": 64,
     "metadata": {},
     "output_type": "execute_result"
    }
   ],
   "source": [
    "# Indexação da matriz\n",
    "arr11[1, ]"
   ]
  },
  {
   "cell_type": "code",
   "execution_count": 65,
   "id": "b8ab2d14",
   "metadata": {},
   "outputs": [],
   "source": [
    "# Alterando um elemento da matriz\n",
    "arr11[1,0] = 100"
   ]
  },
  {
   "cell_type": "code",
   "execution_count": 66,
   "id": "d9ed071a",
   "metadata": {},
   "outputs": [
    {
     "name": "stdout",
     "output_type": "stream",
     "text": [
      "[[ 12  81  22]\n",
      " [100  34  59]\n",
      " [ 21  48  94]]\n"
     ]
    }
   ],
   "source": [
    "print(arr11)"
   ]
  },
  {
   "cell_type": "code",
   "execution_count": 67,
   "id": "cad47367",
   "metadata": {},
   "outputs": [],
   "source": [
    "x = np.array([1, 2])                       # NumPy decide o tipo dos dados\n",
    "y = np.array([1.0, 2.0])                   # NumPy decide o tipo dos dados\n",
    "z = np.array([1, 2], dtype = np.float64)   # Forçamos um tipo de dado em particular\n",
    "a = np.array([1, 2], dtype = np.int64)     # Forçamos um tipo de dado em particular"
   ]
  },
  {
   "cell_type": "code",
   "execution_count": 68,
   "id": "1438a184",
   "metadata": {},
   "outputs": [
    {
     "name": "stdout",
     "output_type": "stream",
     "text": [
      "int32 float64 float64 int64\n"
     ]
    }
   ],
   "source": [
    "print(x.dtype, y.dtype, z.dtype, a.dtype)"
   ]
  },
  {
   "cell_type": "code",
   "execution_count": 69,
   "id": "ac2b658a",
   "metadata": {},
   "outputs": [],
   "source": [
    "arr12 = np.array( [ [24, 76, 92, 14], [47, 35, 89, 2] ], dtype = float)"
   ]
  },
  {
   "cell_type": "code",
   "execution_count": 70,
   "id": "0e1268bb",
   "metadata": {},
   "outputs": [
    {
     "name": "stdout",
     "output_type": "stream",
     "text": [
      "[[24. 76. 92. 14.]\n",
      " [47. 35. 89.  2.]]\n"
     ]
    }
   ],
   "source": [
    "print(arr12)"
   ]
  },
  {
   "cell_type": "markdown",
   "id": "e09a20fc",
   "metadata": {},
   "source": [
    "O itemsize de um array numpy é um atributo que retorna o tamanho em bytes de cada elemento do array. Em outras palavras, o itemsize representa o número de bytes necessários para armazenar cada valor do array numpy."
   ]
  },
  {
   "cell_type": "code",
   "execution_count": 71,
   "id": "92b6d5b3",
   "metadata": {},
   "outputs": [
    {
     "data": {
      "text/plain": [
       "8"
      ]
     },
     "execution_count": 71,
     "metadata": {},
     "output_type": "execute_result"
    }
   ],
   "source": [
    "# itemsize = tamanho em bytes de CADA elemento do array\n",
    "arr12.itemsize"
   ]
  },
  {
   "cell_type": "code",
   "execution_count": 72,
   "id": "095f86f1",
   "metadata": {},
   "outputs": [
    {
     "data": {
      "text/plain": [
       "64"
      ]
     },
     "execution_count": 72,
     "metadata": {},
     "output_type": "execute_result"
    }
   ],
   "source": [
    "# nbytes = tamanho em bytes de TODOS os elementos do array [SOMADOS]\n",
    "arr12.nbytes"
   ]
  },
  {
   "cell_type": "code",
   "execution_count": 73,
   "id": "183f3404",
   "metadata": {},
   "outputs": [
    {
     "data": {
      "text/plain": [
       "2"
      ]
     },
     "execution_count": 73,
     "metadata": {},
     "output_type": "execute_result"
    }
   ],
   "source": [
    "# ndim = número de dimensões\n",
    "arr12.ndim"
   ]
  },
  {
   "cell_type": "markdown",
   "id": "74063126",
   "metadata": {},
   "source": [
    "# Manipulando Objetos de 3 e 4 Dimensões com NumPy"
   ]
  },
  {
   "cell_type": "code",
   "execution_count": 74,
   "id": "af2ff7cf",
   "metadata": {},
   "outputs": [],
   "source": [
    "# Cria um array numpy de 3 dimensões\n",
    "arr_3d = np.array([\n",
    "    [\n",
    "        [1,2,3,4],\n",
    "        [5,6,7,8],\n",
    "        [9,10,11,12]\n",
    "    ],\n",
    "    [\n",
    "        [13,14,15,16],\n",
    "        [17,18,19,20],\n",
    "        [21,22,23,24]\n",
    "    ]\n",
    "])"
   ]
  },
  {
   "cell_type": "code",
   "execution_count": 75,
   "id": "4d80233e",
   "metadata": {},
   "outputs": [
    {
     "name": "stdout",
     "output_type": "stream",
     "text": [
      "[[[ 1  2  3  4]\n",
      "  [ 5  6  7  8]\n",
      "  [ 9 10 11 12]]\n",
      "\n",
      " [[13 14 15 16]\n",
      "  [17 18 19 20]\n",
      "  [21 22 23 24]]]\n"
     ]
    }
   ],
   "source": [
    "print(arr_3d)"
   ]
  },
  {
   "cell_type": "code",
   "execution_count": 76,
   "id": "bb112469",
   "metadata": {},
   "outputs": [
    {
     "data": {
      "text/plain": [
       "3"
      ]
     },
     "execution_count": 76,
     "metadata": {},
     "output_type": "execute_result"
    }
   ],
   "source": [
    "arr_3d.ndim"
   ]
  },
  {
   "cell_type": "code",
   "execution_count": 77,
   "id": "658333b4",
   "metadata": {},
   "outputs": [
    {
     "data": {
      "text/plain": [
       "(2, 3, 4)"
      ]
     },
     "execution_count": 77,
     "metadata": {},
     "output_type": "execute_result"
    }
   ],
   "source": [
    "arr_3d.shape"
   ]
  },
  {
   "cell_type": "code",
   "execution_count": 78,
   "id": "7eed6b7d",
   "metadata": {},
   "outputs": [
    {
     "data": {
      "text/plain": [
       "10"
      ]
     },
     "execution_count": 78,
     "metadata": {},
     "output_type": "execute_result"
    }
   ],
   "source": [
    "arr_3d[0,2,1]"
   ]
  },
  {
   "cell_type": "code",
   "execution_count": 79,
   "id": "1b9555a3",
   "metadata": {},
   "outputs": [],
   "source": [
    "# Cria um array numpy de 4 dimensões\n",
    "arr_4d = np.array([\n",
    "    [\n",
    "        [\n",
    "            [1,2,3,4,5],\n",
    "            [6,7,8,9,10],\n",
    "            [11,12,13,14,15],\n",
    "            [16,17,18,19,20]\n",
    "        ],\n",
    "        [\n",
    "            [21,22,23,24,25],\n",
    "            [26,27,28,29,30],\n",
    "            [31,32,33,34,35],\n",
    "            [36,37,38,39,40]\n",
    "        ],\n",
    "        [\n",
    "            [41,42,43,44,45],\n",
    "            [46,47,48,49,50],\n",
    "            [51,52,53,54,55],\n",
    "            [56,57,58,59,60]\n",
    "        ]\n",
    "        \n",
    "    ],\n",
    "    [\n",
    "        [\n",
    "            [61,62,63,64,65],\n",
    "            [66,67,68,69,70],\n",
    "            [71,72,73,74,75],\n",
    "            [76,77,78,79,80]\n",
    "        ],\n",
    "        [\n",
    "            [81,82,83,84,85],\n",
    "            [86,87,88,89,90],\n",
    "            [91,92,93,94,95],\n",
    "            [96,97,98,99,100]\n",
    "        ],\n",
    "        [\n",
    "            [101,102,103,104,105],\n",
    "            [106,107,108,109,110],\n",
    "            [111,112,113,114,115],\n",
    "            [116,117,118,119,120]\n",
    "        ]\n",
    "    ],\n",
    "])"
   ]
  },
  {
   "cell_type": "code",
   "execution_count": 80,
   "id": "613e429e",
   "metadata": {},
   "outputs": [
    {
     "name": "stdout",
     "output_type": "stream",
     "text": [
      "[[[[  1   2   3   4   5]\n",
      "   [  6   7   8   9  10]\n",
      "   [ 11  12  13  14  15]\n",
      "   [ 16  17  18  19  20]]\n",
      "\n",
      "  [[ 21  22  23  24  25]\n",
      "   [ 26  27  28  29  30]\n",
      "   [ 31  32  33  34  35]\n",
      "   [ 36  37  38  39  40]]\n",
      "\n",
      "  [[ 41  42  43  44  45]\n",
      "   [ 46  47  48  49  50]\n",
      "   [ 51  52  53  54  55]\n",
      "   [ 56  57  58  59  60]]]\n",
      "\n",
      "\n",
      " [[[ 61  62  63  64  65]\n",
      "   [ 66  67  68  69  70]\n",
      "   [ 71  72  73  74  75]\n",
      "   [ 76  77  78  79  80]]\n",
      "\n",
      "  [[ 81  82  83  84  85]\n",
      "   [ 86  87  88  89  90]\n",
      "   [ 91  92  93  94  95]\n",
      "   [ 96  97  98  99 100]]\n",
      "\n",
      "  [[101 102 103 104 105]\n",
      "   [106 107 108 109 110]\n",
      "   [111 112 113 114 115]\n",
      "   [116 117 118 119 120]]]]\n"
     ]
    }
   ],
   "source": [
    "print(arr_4d)"
   ]
  },
  {
   "cell_type": "code",
   "execution_count": 81,
   "id": "da173821",
   "metadata": {},
   "outputs": [
    {
     "data": {
      "text/plain": [
       "4"
      ]
     },
     "execution_count": 81,
     "metadata": {},
     "output_type": "execute_result"
    }
   ],
   "source": [
    "arr_4d.ndim"
   ]
  },
  {
   "cell_type": "code",
   "execution_count": 82,
   "id": "c3cfb7bf",
   "metadata": {},
   "outputs": [
    {
     "data": {
      "text/plain": [
       "(2, 3, 4, 5)"
      ]
     },
     "execution_count": 82,
     "metadata": {},
     "output_type": "execute_result"
    }
   ],
   "source": [
    "arr_4d.shape"
   ]
  },
  {
   "cell_type": "code",
   "execution_count": 83,
   "id": "faad07cd",
   "metadata": {},
   "outputs": [
    {
     "data": {
      "text/plain": [
       "array([46, 47, 48, 49, 50])"
      ]
     },
     "execution_count": 83,
     "metadata": {},
     "output_type": "execute_result"
    }
   ],
   "source": [
    "arr_4d[0,2,1]"
   ]
  },
  {
   "cell_type": "code",
   "execution_count": 84,
   "id": "a7ebe692",
   "metadata": {},
   "outputs": [
    {
     "data": {
      "text/plain": [
       "50"
      ]
     },
     "execution_count": 84,
     "metadata": {},
     "output_type": "execute_result"
    }
   ],
   "source": [
    "arr_4d[0,2,1,4]"
   ]
  },
  {
   "cell_type": "markdown",
   "id": "9c375710",
   "metadata": {},
   "source": [
    "# Manipulando Arquivos com NumPy"
   ]
  },
  {
   "cell_type": "code",
   "execution_count": 85,
   "id": "72eb6f29",
   "metadata": {},
   "outputs": [],
   "source": [
    "import os\n",
    "filename = os.path.join('dataset.csv')"
   ]
  },
  {
   "cell_type": "code",
   "execution_count": 86,
   "id": "b100920e",
   "metadata": {},
   "outputs": [
    {
     "name": "stdout",
     "output_type": "stream",
     "text": [
      "sepal_length,sepal_width,petal_length,petal_width,species\n",
      "5.1,3.5,1.4,0.2,setosa\n",
      "4.9,3,1.4,0.2,setosa\n",
      "4.7,3.2,1.3,0.2,setosa\n",
      "4.6,3.1,1.5,0.2,setosa\n",
      "5,3.6,1.4,0.2,setosa\n",
      "5.4,3.9,1.7,0.4,setosa\n",
      "4.6,3.4,1.4,0.3,setosa\n",
      "5,3.4,1.5,0.2,setosa\n",
      "4.4,2.9,1.4,0.2,setosa\n",
      "4.9,3.1,1.5,0.1,setosa\n",
      "5.4,3.7,1.5,0.2,setosa\n",
      "4.8,3.4,1.6,0.2,setosa\n",
      "4.8,3,1.4,0.1,setosa\n",
      "4.3,3,1.1,0.1,setosa\n",
      "5.8,4,1.2,0.2,setosa\n",
      "5.7,4.4,1.5,0.4,setosa\n",
      "5.4,3.9,1.3,0.4,setosa\n",
      "5.1,3.5,1.4,0.3,setosa\n",
      "5.7,3.8,1.7,0.3,setosa\n",
      "5.1,3.8,1.5,0.3,setosa\n",
      "5.4,3.4,1.7,0.2,setosa\n",
      "5.1,3.7,1.5,0.4,setosa\n",
      "4.6,3.6,1,0.2,setosa\n",
      "5.1,3.3,1.7,0.5,setosa\n",
      "4.8,3.4,1.9,0.2,setosa\n",
      "5,3,1.6,0.2,setosa\n",
      "5,3.4,1.6,0.4,setosa\n",
      "5.2,3.5,1.5,0.2,setosa\n",
      "5.2,3.4,1.4,0.2,setosa\n",
      "4.7,3.2,1.6,0.2,setosa\n",
      "4.8,3.1,1.6,0.2,setosa\n",
      "5.4,3.4,1.5,0.4,setosa\n",
      "5.2,4.1,1.5,0.1,setosa\n",
      "5.5,4.2,1.4,0.2,setosa\n",
      "4.9,3.1,1.5,0.1,setosa\n",
      "5,3.2,1.2,0.2,setosa\n",
      "5.5,3.5,1.3,0.2,setosa\n",
      "4.9,3.1,1.5,0.1,setosa\n",
      "4.4,3,1.3,0.2,setosa\n",
      "5.1,3.4,1.5,0.2,setosa\n",
      "5,3.5,1.3,0.3,setosa\n",
      "4.5,2.3,1.3,0.3,setosa\n",
      "4.4,3.2,1.3,0.2,setosa\n",
      "5,3.5,1.6,0.6,setosa\n",
      "5.1,3.8,1.9,0.4,setosa\n",
      "4.8,3,1.4,0.3,setosa\n",
      "5.1,3.8,1.6,0.2,setosa\n",
      "4.6,3.2,1.4,0.2,setosa\n",
      "5.3,3.7,1.5,0.2,setosa\n",
      "5,3.3,1.4,0.2,setosa\n",
      "7,3.2,4.7,1.4,versicolor\n",
      "6.4,3.2,4.5,1.5,versicolor\n",
      "6.9,3.1,4.9,1.5,versicolor\n",
      "5.5,2.3,4,1.3,versicolor\n",
      "6.5,2.8,4.6,1.5,versicolor\n",
      "5.7,2.8,4.5,1.3,versicolor\n",
      "6.3,3.3,4.7,1.6,versicolor\n",
      "4.9,2.4,3.3,1,versicolor\n",
      "6.6,2.9,4.6,1.3,versicolor\n",
      "5.2,2.7,3.9,1.4,versicolor\n",
      "5,2,3.5,1,versicolor\n",
      "5.9,3,4.2,1.5,versicolor\n",
      "6,2.2,4,1,versicolor\n",
      "6.1,2.9,4.7,1.4,versicolor\n",
      "5.6,2.9,3.6,1.3,versicolor\n",
      "6.7,3.1,4.4,1.4,versicolor\n",
      "5.6,3,4.5,1.5,versicolor\n",
      "5.8,2.7,4.1,1,versicolor\n",
      "6.2,2.2,4.5,1.5,versicolor\n",
      "5.6,2.5,3.9,1.1,versicolor\n",
      "5.9,3.2,4.8,1.8,versicolor\n",
      "6.1,2.8,4,1.3,versicolor\n",
      "6.3,2.5,4.9,1.5,versicolor\n",
      "6.1,2.8,4.7,1.2,versicolor\n",
      "6.4,2.9,4.3,1.3,versicolor\n",
      "6.6,3,4.4,1.4,versicolor\n",
      "6.8,2.8,4.8,1.4,versicolor\n",
      "6.7,3,5,1.7,versicolor\n",
      "6,2.9,4.5,1.5,versicolor\n",
      "5.7,2.6,3.5,1,versicolor\n",
      "5.5,2.4,3.8,1.1,versicolor\n",
      "5.5,2.4,3.7,1,versicolor\n",
      "5.8,2.7,3.9,1.2,versicolor\n",
      "6,2.7,5.1,1.6,versicolor\n",
      "5.4,3,4.5,1.5,versicolor\n",
      "6,3.4,4.5,1.6,versicolor\n",
      "6.7,3.1,4.7,1.5,versicolor\n",
      "6.3,2.3,4.4,1.3,versicolor\n",
      "5.6,3,4.1,1.3,versicolor\n",
      "5.5,2.5,4,1.3,versicolor\n",
      "5.5,2.6,4.4,1.2,versicolor\n",
      "6.1,3,4.6,1.4,versicolor\n",
      "5.8,2.6,4,1.2,versicolor\n",
      "5,2.3,3.3,1,versicolor\n",
      "5.6,2.7,4.2,1.3,versicolor\n",
      "5.7,3,4.2,1.2,versicolor\n",
      "5.7,2.9,4.2,1.3,versicolor\n",
      "6.2,2.9,4.3,1.3,versicolor\n",
      "5.1,2.5,3,1.1,versicolor\n",
      "5.7,2.8,4.1,1.3,versicolor\n",
      "6.3,3.3,6,2.5,virginica\n",
      "5.8,2.7,5.1,1.9,virginica\n",
      "7.1,3,5.9,2.1,virginica\n",
      "6.3,2.9,5.6,1.8,virginica\n",
      "6.5,3,5.8,2.2,virginica\n",
      "7.6,3,6.6,2.1,virginica\n",
      "4.9,2.5,4.5,1.7,virginica\n",
      "7.3,2.9,6.3,1.8,virginica\n",
      "6.7,2.5,5.8,1.8,virginica\n",
      "7.2,3.6,6.1,2.5,virginica\n",
      "6.5,3.2,5.1,2,virginica\n",
      "6.4,2.7,5.3,1.9,virginica\n",
      "6.8,3,5.5,2.1,virginica\n",
      "5.7,2.5,5,2,virginica\n",
      "5.8,2.8,5.1,2.4,virginica\n",
      "6.4,3.2,5.3,2.3,virginica\n",
      "6.5,3,5.5,1.8,virginica\n",
      "7.7,3.8,6.7,2.2,virginica\n",
      "7.7,2.6,6.9,2.3,virginica\n",
      "6,2.2,5,1.5,virginica\n",
      "6.9,3.2,5.7,2.3,virginica\n",
      "5.6,2.8,4.9,2,virginica\n",
      "7.7,2.8,6.7,2,virginica\n",
      "6.3,2.7,4.9,1.8,virginica\n",
      "6.7,3.3,5.7,2.1,virginica\n",
      "7.2,3.2,6,1.8,virginica\n",
      "6.2,2.8,4.8,1.8,virginica\n",
      "6.1,3,4.9,1.8,virginica\n",
      "6.4,2.8,5.6,2.1,virginica\n",
      "7.2,3,5.8,1.6,virginica\n",
      "7.4,2.8,6.1,1.9,virginica\n",
      "7.9,3.8,6.4,2,virginica\n",
      "6.4,2.8,5.6,2.2,virginica\n",
      "6.3,2.8,5.1,1.5,virginica\n",
      "6.1,2.6,5.6,1.4,virginica\n",
      "7.7,3,6.1,2.3,virginica\n",
      "6.3,3.4,5.6,2.4,virginica\n",
      "6.4,3.1,5.5,1.8,virginica\n",
      "6,3,4.8,1.8,virginica\n",
      "6.9,3.1,5.4,2.1,virginica\n",
      "6.7,3.1,5.6,2.4,virginica\n",
      "6.9,3.1,5.1,2.3,virginica\n",
      "5.8,2.7,5.1,1.9,virginica\n",
      "6.8,3.2,5.9,2.3,virginica\n",
      "6.7,3.3,5.7,2.5,virginica\n",
      "6.7,3,5.2,2.3,virginica\n",
      "6.3,2.5,5,1.9,virginica\n",
      "6.5,3,5.2,2,virginica\n",
      "6.2,3.4,5.4,2.3,virginica\n",
      "5.9,3,5.1,1.8,virginica\n"
     ]
    }
   ],
   "source": [
    "# No windowns use !more dataset.csv. Mac ou Linux use !head dataset.csv\n",
    "!more dataset.csv"
   ]
  },
  {
   "cell_type": "code",
   "execution_count": 87,
   "id": "0478dbbb",
   "metadata": {},
   "outputs": [],
   "source": [
    "# Carregando um dataset para dentro de um array\n",
    "arr13 = np.loadtxt(filename, delimiter = ',', usecols = (0,1,2,3), skiprows = 1)"
   ]
  },
  {
   "cell_type": "code",
   "execution_count": 88,
   "id": "ff41c200",
   "metadata": {},
   "outputs": [
    {
     "name": "stdout",
     "output_type": "stream",
     "text": [
      "[[5.1 3.5 1.4 0.2]\n",
      " [4.9 3.  1.4 0.2]\n",
      " [4.7 3.2 1.3 0.2]\n",
      " [4.6 3.1 1.5 0.2]\n",
      " [5.  3.6 1.4 0.2]\n",
      " [5.4 3.9 1.7 0.4]\n",
      " [4.6 3.4 1.4 0.3]\n",
      " [5.  3.4 1.5 0.2]\n",
      " [4.4 2.9 1.4 0.2]\n",
      " [4.9 3.1 1.5 0.1]\n",
      " [5.4 3.7 1.5 0.2]\n",
      " [4.8 3.4 1.6 0.2]\n",
      " [4.8 3.  1.4 0.1]\n",
      " [4.3 3.  1.1 0.1]\n",
      " [5.8 4.  1.2 0.2]\n",
      " [5.7 4.4 1.5 0.4]\n",
      " [5.4 3.9 1.3 0.4]\n",
      " [5.1 3.5 1.4 0.3]\n",
      " [5.7 3.8 1.7 0.3]\n",
      " [5.1 3.8 1.5 0.3]\n",
      " [5.4 3.4 1.7 0.2]\n",
      " [5.1 3.7 1.5 0.4]\n",
      " [4.6 3.6 1.  0.2]\n",
      " [5.1 3.3 1.7 0.5]\n",
      " [4.8 3.4 1.9 0.2]\n",
      " [5.  3.  1.6 0.2]\n",
      " [5.  3.4 1.6 0.4]\n",
      " [5.2 3.5 1.5 0.2]\n",
      " [5.2 3.4 1.4 0.2]\n",
      " [4.7 3.2 1.6 0.2]\n",
      " [4.8 3.1 1.6 0.2]\n",
      " [5.4 3.4 1.5 0.4]\n",
      " [5.2 4.1 1.5 0.1]\n",
      " [5.5 4.2 1.4 0.2]\n",
      " [4.9 3.1 1.5 0.1]\n",
      " [5.  3.2 1.2 0.2]\n",
      " [5.5 3.5 1.3 0.2]\n",
      " [4.9 3.1 1.5 0.1]\n",
      " [4.4 3.  1.3 0.2]\n",
      " [5.1 3.4 1.5 0.2]\n",
      " [5.  3.5 1.3 0.3]\n",
      " [4.5 2.3 1.3 0.3]\n",
      " [4.4 3.2 1.3 0.2]\n",
      " [5.  3.5 1.6 0.6]\n",
      " [5.1 3.8 1.9 0.4]\n",
      " [4.8 3.  1.4 0.3]\n",
      " [5.1 3.8 1.6 0.2]\n",
      " [4.6 3.2 1.4 0.2]\n",
      " [5.3 3.7 1.5 0.2]\n",
      " [5.  3.3 1.4 0.2]\n",
      " [7.  3.2 4.7 1.4]\n",
      " [6.4 3.2 4.5 1.5]\n",
      " [6.9 3.1 4.9 1.5]\n",
      " [5.5 2.3 4.  1.3]\n",
      " [6.5 2.8 4.6 1.5]\n",
      " [5.7 2.8 4.5 1.3]\n",
      " [6.3 3.3 4.7 1.6]\n",
      " [4.9 2.4 3.3 1. ]\n",
      " [6.6 2.9 4.6 1.3]\n",
      " [5.2 2.7 3.9 1.4]\n",
      " [5.  2.  3.5 1. ]\n",
      " [5.9 3.  4.2 1.5]\n",
      " [6.  2.2 4.  1. ]\n",
      " [6.1 2.9 4.7 1.4]\n",
      " [5.6 2.9 3.6 1.3]\n",
      " [6.7 3.1 4.4 1.4]\n",
      " [5.6 3.  4.5 1.5]\n",
      " [5.8 2.7 4.1 1. ]\n",
      " [6.2 2.2 4.5 1.5]\n",
      " [5.6 2.5 3.9 1.1]\n",
      " [5.9 3.2 4.8 1.8]\n",
      " [6.1 2.8 4.  1.3]\n",
      " [6.3 2.5 4.9 1.5]\n",
      " [6.1 2.8 4.7 1.2]\n",
      " [6.4 2.9 4.3 1.3]\n",
      " [6.6 3.  4.4 1.4]\n",
      " [6.8 2.8 4.8 1.4]\n",
      " [6.7 3.  5.  1.7]\n",
      " [6.  2.9 4.5 1.5]\n",
      " [5.7 2.6 3.5 1. ]\n",
      " [5.5 2.4 3.8 1.1]\n",
      " [5.5 2.4 3.7 1. ]\n",
      " [5.8 2.7 3.9 1.2]\n",
      " [6.  2.7 5.1 1.6]\n",
      " [5.4 3.  4.5 1.5]\n",
      " [6.  3.4 4.5 1.6]\n",
      " [6.7 3.1 4.7 1.5]\n",
      " [6.3 2.3 4.4 1.3]\n",
      " [5.6 3.  4.1 1.3]\n",
      " [5.5 2.5 4.  1.3]\n",
      " [5.5 2.6 4.4 1.2]\n",
      " [6.1 3.  4.6 1.4]\n",
      " [5.8 2.6 4.  1.2]\n",
      " [5.  2.3 3.3 1. ]\n",
      " [5.6 2.7 4.2 1.3]\n",
      " [5.7 3.  4.2 1.2]\n",
      " [5.7 2.9 4.2 1.3]\n",
      " [6.2 2.9 4.3 1.3]\n",
      " [5.1 2.5 3.  1.1]\n",
      " [5.7 2.8 4.1 1.3]\n",
      " [6.3 3.3 6.  2.5]\n",
      " [5.8 2.7 5.1 1.9]\n",
      " [7.1 3.  5.9 2.1]\n",
      " [6.3 2.9 5.6 1.8]\n",
      " [6.5 3.  5.8 2.2]\n",
      " [7.6 3.  6.6 2.1]\n",
      " [4.9 2.5 4.5 1.7]\n",
      " [7.3 2.9 6.3 1.8]\n",
      " [6.7 2.5 5.8 1.8]\n",
      " [7.2 3.6 6.1 2.5]\n",
      " [6.5 3.2 5.1 2. ]\n",
      " [6.4 2.7 5.3 1.9]\n",
      " [6.8 3.  5.5 2.1]\n",
      " [5.7 2.5 5.  2. ]\n",
      " [5.8 2.8 5.1 2.4]\n",
      " [6.4 3.2 5.3 2.3]\n",
      " [6.5 3.  5.5 1.8]\n",
      " [7.7 3.8 6.7 2.2]\n",
      " [7.7 2.6 6.9 2.3]\n",
      " [6.  2.2 5.  1.5]\n",
      " [6.9 3.2 5.7 2.3]\n",
      " [5.6 2.8 4.9 2. ]\n",
      " [7.7 2.8 6.7 2. ]\n",
      " [6.3 2.7 4.9 1.8]\n",
      " [6.7 3.3 5.7 2.1]\n",
      " [7.2 3.2 6.  1.8]\n",
      " [6.2 2.8 4.8 1.8]\n",
      " [6.1 3.  4.9 1.8]\n",
      " [6.4 2.8 5.6 2.1]\n",
      " [7.2 3.  5.8 1.6]\n",
      " [7.4 2.8 6.1 1.9]\n",
      " [7.9 3.8 6.4 2. ]\n",
      " [6.4 2.8 5.6 2.2]\n",
      " [6.3 2.8 5.1 1.5]\n",
      " [6.1 2.6 5.6 1.4]\n",
      " [7.7 3.  6.1 2.3]\n",
      " [6.3 3.4 5.6 2.4]\n",
      " [6.4 3.1 5.5 1.8]\n",
      " [6.  3.  4.8 1.8]\n",
      " [6.9 3.1 5.4 2.1]\n",
      " [6.7 3.1 5.6 2.4]\n",
      " [6.9 3.1 5.1 2.3]\n",
      " [5.8 2.7 5.1 1.9]\n",
      " [6.8 3.2 5.9 2.3]\n",
      " [6.7 3.3 5.7 2.5]\n",
      " [6.7 3.  5.2 2.3]\n",
      " [6.3 2.5 5.  1.9]\n",
      " [6.5 3.  5.2 2. ]\n",
      " [6.2 3.4 5.4 2.3]\n",
      " [5.9 3.  5.1 1.8]]\n"
     ]
    }
   ],
   "source": [
    "print(arr13)"
   ]
  },
  {
   "cell_type": "code",
   "execution_count": 89,
   "id": "b1447371",
   "metadata": {},
   "outputs": [
    {
     "data": {
      "text/plain": [
       "numpy.ndarray"
      ]
     },
     "execution_count": 89,
     "metadata": {},
     "output_type": "execute_result"
    }
   ],
   "source": [
    "type(arr13)"
   ]
  },
  {
   "cell_type": "code",
   "execution_count": 90,
   "id": "89305abd",
   "metadata": {},
   "outputs": [
    {
     "data": {
      "text/plain": [
       "2"
      ]
     },
     "execution_count": 90,
     "metadata": {},
     "output_type": "execute_result"
    }
   ],
   "source": [
    "arr13.ndim"
   ]
  },
  {
   "cell_type": "code",
   "execution_count": 91,
   "id": "9601cda9",
   "metadata": {},
   "outputs": [],
   "source": [
    "# Carregando apenas duas variáveis (colunas) do arquivo\n",
    "col1, col2 = np.loadtxt(filename, delimiter = ',', usecols = (0,1), skiprows = 1, unpack = True)"
   ]
  },
  {
   "cell_type": "code",
   "execution_count": 92,
   "id": "89023784",
   "metadata": {},
   "outputs": [
    {
     "name": "stdout",
     "output_type": "stream",
     "text": [
      "[5.1 4.9 4.7 4.6 5.  5.4 4.6 5.  4.4 4.9 5.4 4.8 4.8 4.3 5.8 5.7 5.4 5.1\n",
      " 5.7 5.1 5.4 5.1 4.6 5.1 4.8 5.  5.  5.2 5.2 4.7 4.8 5.4 5.2 5.5 4.9 5.\n",
      " 5.5 4.9 4.4 5.1 5.  4.5 4.4 5.  5.1 4.8 5.1 4.6 5.3 5.  7.  6.4 6.9 5.5\n",
      " 6.5 5.7 6.3 4.9 6.6 5.2 5.  5.9 6.  6.1 5.6 6.7 5.6 5.8 6.2 5.6 5.9 6.1\n",
      " 6.3 6.1 6.4 6.6 6.8 6.7 6.  5.7 5.5 5.5 5.8 6.  5.4 6.  6.7 6.3 5.6 5.5\n",
      " 5.5 6.1 5.8 5.  5.6 5.7 5.7 6.2 5.1 5.7 6.3 5.8 7.1 6.3 6.5 7.6 4.9 7.3\n",
      " 6.7 7.2 6.5 6.4 6.8 5.7 5.8 6.4 6.5 7.7 7.7 6.  6.9 5.6 7.7 6.3 6.7 7.2\n",
      " 6.2 6.1 6.4 7.2 7.4 7.9 6.4 6.3 6.1 7.7 6.3 6.4 6.  6.9 6.7 6.9 5.8 6.8\n",
      " 6.7 6.7 6.3 6.5 6.2 5.9]\n"
     ]
    }
   ],
   "source": [
    "print(col1)"
   ]
  },
  {
   "cell_type": "code",
   "execution_count": 93,
   "id": "372b6b16",
   "metadata": {},
   "outputs": [
    {
     "data": {
      "text/plain": [
       "1"
      ]
     },
     "execution_count": 93,
     "metadata": {},
     "output_type": "execute_result"
    }
   ],
   "source": [
    "col1.ndim"
   ]
  },
  {
   "cell_type": "code",
   "execution_count": 94,
   "id": "ea5343c3",
   "metadata": {},
   "outputs": [
    {
     "name": "stdout",
     "output_type": "stream",
     "text": [
      "[3.5 3.  3.2 3.1 3.6 3.9 3.4 3.4 2.9 3.1 3.7 3.4 3.  3.  4.  4.4 3.9 3.5\n",
      " 3.8 3.8 3.4 3.7 3.6 3.3 3.4 3.  3.4 3.5 3.4 3.2 3.1 3.4 4.1 4.2 3.1 3.2\n",
      " 3.5 3.1 3.  3.4 3.5 2.3 3.2 3.5 3.8 3.  3.8 3.2 3.7 3.3 3.2 3.2 3.1 2.3\n",
      " 2.8 2.8 3.3 2.4 2.9 2.7 2.  3.  2.2 2.9 2.9 3.1 3.  2.7 2.2 2.5 3.2 2.8\n",
      " 2.5 2.8 2.9 3.  2.8 3.  2.9 2.6 2.4 2.4 2.7 2.7 3.  3.4 3.1 2.3 3.  2.5\n",
      " 2.6 3.  2.6 2.3 2.7 3.  2.9 2.9 2.5 2.8 3.3 2.7 3.  2.9 3.  3.  2.5 2.9\n",
      " 2.5 3.6 3.2 2.7 3.  2.5 2.8 3.2 3.  3.8 2.6 2.2 3.2 2.8 2.8 2.7 3.3 3.2\n",
      " 2.8 3.  2.8 3.  2.8 3.8 2.8 2.8 2.6 3.  3.4 3.1 3.  3.1 3.1 3.1 2.7 3.2\n",
      " 3.3 3.  2.5 3.  3.4 3. ]\n"
     ]
    }
   ],
   "source": [
    "print(col2)"
   ]
  },
  {
   "cell_type": "code",
   "execution_count": 95,
   "id": "9dd9dc35",
   "metadata": {},
   "outputs": [
    {
     "data": {
      "text/plain": [
       "1"
      ]
     },
     "execution_count": 95,
     "metadata": {},
     "output_type": "execute_result"
    }
   ],
   "source": [
    "col2.ndim"
   ]
  },
  {
   "cell_type": "code",
   "execution_count": 96,
   "id": "6df11b1a",
   "metadata": {},
   "outputs": [
    {
     "data": {
      "image/png": "[encoded data removed]",
      "text/plain": [
       "<Figure size 640x480 with 1 Axes>"
      ]
     },
     "metadata": {},
     "output_type": "display_data"
    }
   ],
   "source": [
    "# Gerando um plot a partir de um arquivo usando o NumPy\n",
    "import matplotlib.pyplot as plt\n",
    "plt.show(plt.plot(col1, col2, 'o', markersize = 6, color = 'blue'))\n",
    "# Gráfico de Dispersão"
   ]
  },
  {
   "cell_type": "markdown",
   "id": "5d2994c1",
   "metadata": {},
   "source": [
    "# Análise Estatística Básica com NumPy"
   ]
  },
  {
   "cell_type": "code",
   "execution_count": 97,
   "id": "50224612",
   "metadata": {},
   "outputs": [],
   "source": [
    "# Criando um array\n",
    "arr14 = np.array([15, 23, 63, 94, 75])"
   ]
  },
  {
   "cell_type": "markdown",
   "id": "1139497b",
   "metadata": {},
   "source": [
    "Em Estatística, a média é uma medida de tendência central que representa o valor central de um conjunto de dados. É calculada somando-se todos os valores do conjunto de dados e dividindo-se pelo número de observações."
   ]
  },
  {
   "cell_type": "code",
   "execution_count": 98,
   "id": "7c9ed7c6",
   "metadata": {},
   "outputs": [
    {
     "data": {
      "text/plain": [
       "54.0"
      ]
     },
     "execution_count": 98,
     "metadata": {},
     "output_type": "execute_result"
    }
   ],
   "source": [
    "# Média do array\n",
    "np.mean(arr14)"
   ]
  }
 ],
 "metadata": {
  "kernelspec": {
   "display_name": "Python 3 (ipykernel)",
   "language": "python",
   "name": "python3"
  },
  "language_info": {
   "codemirror_mode": {
    "name": "ipython",
    "version": 3
   },
   "file_extension": ".py",
   "mimetype": "text/x-python",
   "name": "python",
   "nbconvert_exporter": "python",
   "pygments_lexer": "ipython3",
   "version": "3.9.13"
  }
 },
 "nbformat": 4,
 "nbformat_minor": 5
}

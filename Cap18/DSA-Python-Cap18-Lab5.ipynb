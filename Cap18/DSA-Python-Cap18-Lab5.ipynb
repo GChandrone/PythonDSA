{
 "cells": [
  {
   "cell_type": "markdown",
   "id": "e2411ca0",
   "metadata": {},
   "source": [
    "# <font color='blue'>Data Science Academy</font>\n",
    "\n",
    "## <font color='blue'>Fundamentos de Linguagem Python Para Análise de Dados e Data Science</font>\n",
    "\n",
    "## <font color='blue'>Lab 5</font>\n",
    "\n",
    "## <font color='blue'>Robô Trading com Inteligência Artificial em Linguagem Python</font>\n",
    "\n",
    "Problema de Negócio:\n",
    "\n",
    "Construir um robô (modelo em Linguagem Python) baseado em Inteligência Artificial que aprenda a operar na bolsa de valores a partir de experimentos de compra e venda de ações. Dado um saldo inicial o modelo deve apresentar o resultado (lucro) a ser obtido depois de ações de compra e venda."
   ]
  },
  {
   "cell_type": "markdown",
   "id": "7464f6ca",
   "metadata": {},
   "source": [
    "![DSA](imagens/dsa_cap18.png)"
   ]
  },
  {
   "cell_type": "code",
   "execution_count": 2,
   "id": "7bf36615",
   "metadata": {},
   "outputs": [
    {
     "name": "stdout",
     "output_type": "stream",
     "text": [
      "Versão da Linguagem Python Usada Neste Jupyter Notebook: 3.9.13\n"
     ]
    }
   ],
   "source": [
    "# Versão da Linguagem Python\n",
    "from platform import python_version\n",
    "print('Versão da Linguagem Python Usada Neste Jupyter Notebook:', python_version())"
   ]
  },
  {
   "cell_type": "markdown",
   "id": "f443a33a",
   "metadata": {},
   "source": [
    "https://plotly.com/"
   ]
  },
  {
   "cell_type": "code",
   "execution_count": null,
   "id": "00618cb1",
   "metadata": {},
   "outputs": [],
   "source": []
  }
 ],
 "metadata": {
  "kernelspec": {
   "display_name": "Python 3 (ipykernel)",
   "language": "python",
   "name": "python3"
  },
  "language_info": {
   "codemirror_mode": {
    "name": "ipython",
    "version": 3
   },
   "file_extension": ".py",
   "mimetype": "text/x-python",
   "name": "python",
   "nbconvert_exporter": "python",
   "pygments_lexer": "ipython3",
   "version": "3.9.13"
  }
 },
 "nbformat": 4,
 "nbformat_minor": 5
}

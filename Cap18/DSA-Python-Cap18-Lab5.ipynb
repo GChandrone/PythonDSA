{
 "cells": [
  {
   "cell_type": "markdown",
   "id": "bba2b95b",
   "metadata": {},
   "source": [
    "# <font color='blue'>Data Science Academy</font>\n",
    "\n",
    "## <font color='blue'>Fundamentos de Linguagem Python Para Análise de Dados e Data Science</font>\n",
    "\n",
    "## <font color='blue'>Lab 5</font>\n",
    "\n",
    "## <font color='blue'>Robô Trading com Inteligência Artificial em Linguagem Python</font>\n",
    "\n",
    "Problema de Negócio:\n",
    "\n",
    "Construir um robô (modelo em Linguagem Python) baseado em Inteligência Artificial que aprenda a operar na bolsa de valores a partir de experimentos de compra e venda de ações. Dado um saldo inicial o modelo deve apresentar o resultado (lucro) a ser obtido depois de ações de compra e venda."
   ]
  },
  {
   "cell_type": "markdown",
   "id": "0aab20ba",
   "metadata": {},
   "source": [
    "![DSA](imagens/dsa_cap18.png)"
   ]
  },
  {
   "cell_type": "code",
   "execution_count": 2,
   "id": "aaf9140a",
   "metadata": {},
   "outputs": [
    {
     "name": "stdout",
     "output_type": "stream",
     "text": [
      "Versão da Linguagem Python Usada Neste Jupyter Notebook: 3.9.13\n"
     ]
    }
   ],
   "source": [
    "# Versão da Linguagem Python\n",
    "from platform import python_version\n",
    "print('Versão da Linguagem Python Usada Neste Jupyter Notebook:', python_version())"
   ]
  },
  {
   "cell_type": "markdown",
   "id": "da071e1c",
   "metadata": {},
   "source": [
    "https://plotly.com/"
   ]
  },
  {
   "cell_type": "code",
   "execution_count": null,
   "id": "56b6ffcf",
   "metadata": {},
   "outputs": [],
   "source": [
    "# Instala o pacote\n",
    "!pip install -q p"
   ]
  }
 ],
 "metadata": {
  "kernelspec": {
   "display_name": "Python 3 (ipykernel)",
   "language": "python",
   "name": "python3"
  },
  "language_info": {
   "codemirror_mode": {
    "name": "ipython",
    "version": 3
   },
   "file_extension": ".py",
   "mimetype": "text/x-python",
   "name": "python",
   "nbconvert_exporter": "python",
   "pygments_lexer": "ipython3",
   "version": "3.9.13"
  }
 },
 "nbformat": 4,
 "nbformat_minor": 5
}

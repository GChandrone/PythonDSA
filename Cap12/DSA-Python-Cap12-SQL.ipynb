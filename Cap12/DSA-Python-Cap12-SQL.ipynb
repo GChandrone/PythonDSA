{
 "cells": [
  {
   "cell_type": "markdown",
   "id": "7f9f4ea8",
   "metadata": {},
   "source": [
    "# <font color='blue'>Data Science Academy</font>\n",
    "\n",
    "## <font color='blue'>Fundamentos de Linguagem Python Para Análise de Dados e Data Science</font>\n",
    "\n",
    "## <font color='blue'>Análise de Dados com Python e Linguagem SQL</font>"
   ]
  },
  {
   "cell_type": "markdown",
   "id": "949e801a",
   "metadata": {},
   "source": [
    "**Por Que a Linguagem SQL é Fundamental Para Profissionais de Dados?**\n",
    "\n",
    "A Linguagem SQL (Structured Query Language) é fundamental para profissionais de dados por várias razões:\n",
    "\n",
    "- **Padrão Universal**: SQL é uma linguagem padrão e amplamente aceita para gerenciamento e consulta de bancos de dados relacionais. Independentemente do sistema gerenciador de banco de dados (SGBD) utilizado, SQL é a linguagem comum para realizar consultas e manipulações de dados.\n",
    "\n",
    "\n",
    "- **Flexibilidade**: SQL permite criar consultas complexas e personalizadas, combinando dados de várias tabelas, filtrando informações e realizando operações de agregação e ordenação. Isso permite que os profissionais de dados extraiam informações valiosas a partir dos dados armazenados.\n",
    "\n",
    "\n",
    "- **Manipulação de Dados**: Além das consultas, SQL permite a inserção, atualização e exclusão de dados, bem como a definição de esquemas e gerenciamento de objetos de banco de dados, como tabelas, índices e visões.\n",
    "\n",
    "\n",
    "- **Controle de Acesso e Segurança**: SQL também oferece recursos para gerenciar o acesso e a segurança dos dados, permitindo aos profissionais de dados controlar quem pode acessar, modificar ou excluir informações no banco de dados.\n",
    "\n",
    "\n",
    "- **Alta Demanda no Mercado**: Profissionais de dados com habilidades em SQL estão em alta demanda, já que a linguagem é amplamente usada em várias áreas e setores. O conhecimento em SQL é uma habilidade essencial para cargos como <a href=\"https://www.datascienceacademy.com.br/bundle/formacao-analista-de-dados\">Analista de Dados</a>, <a href=\"https://www.datascienceacademy.com.br/bundle/formacao-cientista-de-dados\">Cientista de Dados</a>, <a href=\"https://www.datascienceacademy.com.br/bundle/formacao-engenheiro-de-dados\">Engenheiro de Dados</a> e Administrador de Banco de Dados.\n",
    "\n",
    "\n",
    "- **Integração com Outras Ferramentas e Tecnologias**: SQL se integra facilmente com outras ferramentas e linguagens de programação, como Python, R, Java, entre outras. Isso permite que os profissionais de dados aproveitem o poder da Linguagem SQL em conjunto com outras tecnologias para analisar, visualizar e processar dados.\n",
    "\n",
    "Dominar a linguagem SQL proporciona aos profissionais de dados uma base sólida para trabalhar com bancos de dados relacionais e extrair insights valiosos a partir deles. Aprender SQL é um passo essencial para qualquer pessoa que deseja ingressar ou progredir no campo da Análise e Ciência de dados. A Linguagem SQL é fundamental para profissionais de dados. \n",
    "\n",
    "**Onde Encontrar Material de Estudo?**\n",
    "\n",
    "Além deste capítulo que estudaremos agora, veja onde encontrar material sobre SQL aqui na DSA:\n",
    "\n",
    "- A Linguagem SQL (nível de introdução) é estudada em um capítulo inteiro no curso gratuito de <a href=\"https://www.datascienceacademy.com.br/course/microsoft-power-bi-para-business-intelligence-e-data-science\">Microsoft Power BI Para Business Intelligence e Data Science</a>.\n",
    "\n",
    "\n",
    "- A Linguagem SQL é estudada em diversos Labs do curso <a href=\"https://www.datascienceacademy.com.br/course/power-bi-avancado-para-analise-de-dados-com-dax\">Power BI Avançado Para Análise de Dados com DAX</a>.\n",
    "\n",
    "\n",
    "- A Linguagem SQL é estudada em detalhes no curso SQL Para Data Science, o primeiro da <a href=\"https://www.datascienceacademy.com.br/bundle/formacao-analista-de-dados\">Formação Analista de Dados</a>.\n",
    "\n",
    "\n",
    "- A Linguagem SQL é estudada em 4 dos 6 cursos da <a href=\"https://www.datascienceacademy.com.br/bundle/formacao-cientista-de-dados\">Formação Cientista de Dados</a> e usada em diversos Labs, Estudos de Caso, Mini-Projetos e Projetos.\n",
    "\n",
    "\n",
    "- A Linguagem SQL é estudada em um Lab completo no primeiro curso da <a href=\"https://www.datascienceacademy.com.br/bundle/formacao-engenheiro-de-dados\">Formação Engenheiro de Dados</a> e usada nos projetos de diversos cursos da Formação.\n",
    "\n",
    "\n",
    "- A Linguagem SQL é estudada em um capítulo inteiro (nível avançado) no segundo curso da <a href=\"https://www.datascienceacademy.com.br/bundle/formacao-arquiteto-de-dados\">Formação Arquiteto de Dados</a> e usada nos projetos de diversos cursos da Formação.\n",
    "\n",
    "\n",
    "- No curso de Excel Avançado, (curso de bônus gratuito e exclusivo para os alunos das Formações DSA) há um Lab demonstrando passo a passo como usar SQL dentro do Excel."
   ]
  },
  {
   "cell_type": "code",
   "execution_count": 2,
   "id": "dd4121b5",
   "metadata": {},
   "outputs": [
    {
     "name": "stdout",
     "output_type": "stream",
     "text": [
      "Versão da Linguagem Python Usada Neste Jupyter Notebook: 3.9.13\n"
     ]
    }
   ],
   "source": [
    "# Versão da Linguagem Python\n",
    "from platform import python_version\n",
    "print('Versão da Linguagem Python Usada Neste Jupyter Notebook:', python_version())"
   ]
  },
  {
   "cell_type": "code",
   "execution_count": 3,
   "id": "32fdce69",
   "metadata": {},
   "outputs": [],
   "source": [
    "import sqlite3"
   ]
  },
  {
   "cell_type": "code",
   "execution_count": 4,
   "id": "42b8830d",
   "metadata": {},
   "outputs": [
    {
     "data": {
      "text/plain": [
       "'3.39.3'"
      ]
     },
     "execution_count": 4,
     "metadata": {},
     "output_type": "execute_result"
    }
   ],
   "source": [
    "sqlite3.sqlite_version"
   ]
  },
  {
   "cell_type": "code",
   "execution_count": 5,
   "id": "43d34396",
   "metadata": {},
   "outputs": [],
   "source": [
    "import pandas as pd"
   ]
  },
  {
   "cell_type": "code",
   "execution_count": 6,
   "id": "0406a4f7",
   "metadata": {},
   "outputs": [
    {
     "data": {
      "text/plain": [
       "'1.5.3'"
      ]
     },
     "execution_count": 6,
     "metadata": {},
     "output_type": "execute_result"
    }
   ],
   "source": [
    "pd.__version__"
   ]
  }
 ],
 "metadata": {
  "kernelspec": {
   "display_name": "Python 3 (ipykernel)",
   "language": "python",
   "name": "python3"
  },
  "language_info": {
   "codemirror_mode": {
    "name": "ipython",
    "version": 3
   },
   "file_extension": ".py",
   "mimetype": "text/x-python",
   "name": "python",
   "nbconvert_exporter": "python",
   "pygments_lexer": "ipython3",
   "version": "3.9.13"
  }
 },
 "nbformat": 4,
 "nbformat_minor": 5
}

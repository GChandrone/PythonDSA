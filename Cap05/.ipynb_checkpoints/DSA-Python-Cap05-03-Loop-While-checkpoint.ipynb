{
 "cells": [
  {
   "cell_type": "code",
   "execution_count": 1,
   "id": "16fe549c",
   "metadata": {},
   "outputs": [
    {
     "name": "stdout",
     "output_type": "stream",
     "text": [
      "Versão da Linguagem Python Usada Neste Jupyter Notebook: 3.9.13\n"
     ]
    }
   ],
   "source": [
    "from platform import python_version\n",
    "print(\"Versão da Linguagem Python Usada Neste Jupyter Notebook:\", python_version())"
   ]
  },
  {
   "cell_type": "markdown",
   "id": "1384659d",
   "metadata": {},
   "source": [
    "# Loop While "
   ]
  },
  {
   "cell_type": "code",
   "execution_count": 2,
   "id": "cbf31e6f",
   "metadata": {},
   "outputs": [
    {
     "name": "stdout",
     "output_type": "stream",
     "text": [
      "0\n",
      "1\n",
      "2\n",
      "3\n",
      "4\n",
      "5\n",
      "6\n",
      "7\n",
      "8\n",
      "9\n"
     ]
    }
   ],
   "source": [
    "# Usando o loop while para imprimir os valores de 0 a 9\n",
    "# A condição tem que deixar de ser verdadeira dentro do loop, senão pode travar o navegador ou mesmo o computador\n",
    "\n",
    "valor = 0\n",
    "\n",
    "while valor < 10:\n",
    "    print(valor)\n",
    "    valor += 1"
   ]
  },
  {
   "cell_type": "code",
   "execution_count": 3,
   "id": "9a5ad945",
   "metadata": {},
   "outputs": [],
   "source": [
    "# Entra no loop somente se a condição for verdadeira\n",
    "\n",
    "valor = 10\n",
    "\n",
    "while valor < 10:\n",
    "    print(valor)\n",
    "    valor += 1"
   ]
  },
  {
   "cell_type": "code",
   "execution_count": 6,
   "id": "063f8a6e",
   "metadata": {},
   "outputs": [
    {
     "name": "stdout",
     "output_type": "stream",
     "text": [
      "O valor de x nesta interação é 1\n",
      "x ainda é menor que 10, somando 1 a x\n",
      "O valor de x nesta interação é 2\n",
      "x ainda é menor que 10, somando 1 a x\n",
      "O valor de x nesta interação é 3\n",
      "x ainda é menor que 10, somando 1 a x\n",
      "O valor de x nesta interação é 4\n",
      "x ainda é menor que 10, somando 1 a x\n",
      "O valor de x nesta interação é 5\n",
      "x ainda é menor que 10, somando 1 a x\n",
      "O valor de x nesta interação é 6\n",
      "x ainda é menor que 10, somando 1 a x\n",
      "O valor de x nesta interação é 7\n",
      "x ainda é menor que 10, somando 1 a x\n",
      "O valor de x nesta interação é 8\n",
      "x ainda é menor que 10, somando 1 a x\n",
      "O valor de x nesta interação é 9\n",
      "x ainda é menor que 10, somando 1 a x\n",
      "Loop concluído\n",
      "10\n"
     ]
    }
   ],
   "source": [
    "# Também é possível usar a claúsula else para encerrar o loop while\n",
    "\n",
    "x = 1\n",
    "\n",
    "while x < 10:\n",
    "    print (\"O valor de x nesta interação é\", x)\n",
    "    print (\"x ainda é menor que 10, somando 1 a x\")\n",
    "    x += 1\n",
    "else:\n",
    "    print (\"Loop concluído\")\n",
    "print (x)"
   ]
  },
  {
   "cell_type": "markdown",
   "id": "2fd8199f",
   "metadata": {},
   "source": [
    "# Pass, Break, Continue"
   ]
  },
  {
   "cell_type": "code",
   "execution_count": 8,
   "id": "40c9924e",
   "metadata": {},
   "outputs": [
    {
     "name": "stdout",
     "output_type": "stream",
     "text": [
      "0\n",
      "1\n",
      "2\n",
      "3\n"
     ]
    }
   ],
   "source": [
    "# Se encontrarmos o número 4 interrompemos o loop\n",
    "\n",
    "valor = 0\n",
    "\n",
    "while valor < 10:\n",
    "    if valor == 4:\n",
    "        break\n",
    "    print (valor)\n",
    "    valor += 1"
   ]
  },
  {
   "cell_type": "code",
   "execution_count": 16,
   "id": "a9218bcb",
   "metadata": {},
   "outputs": [
    {
     "name": "stdout",
     "output_type": "stream",
     "text": [
      "Python é  incrível!\n"
     ]
    }
   ],
   "source": [
    "# Desconsideramos a letra z ao imprimir os caracteres da frase\n",
    "frase = \"\"\n",
    "\n",
    "for letra in \"Python é zzz incrível!\":\n",
    "    if letra == \"z\":\n",
    "        continue\n",
    "    frase += letra\n",
    "print (frase)"
   ]
  },
  {
   "cell_type": "markdown",
   "id": "1676f273",
   "metadata": {},
   "source": [
    "# While e For juntos\n",
    "vamos encontrar números primos em uma coleção de números usando loop While e For juntos.\n",
    "\n",
    "Um número primo é um número natural maior do que 1 que é divisível apenas por 1 e por ele mesmo. Isso significa que nao há nenhum outro número inteiro que possa dividir o número primo sem deixar resto. Por Exemplo, o número 2 é primo, pois é divisível apenas por 1 e 2, o número 4 não é primo, pois é divisível por 2."
   ]
  },
  {
   "cell_type": "code",
   "execution_count": 28,
   "id": "0b6f3a89",
   "metadata": {},
   "outputs": [
    {
     "name": "stdout",
     "output_type": "stream",
     "text": [
      "[2, 3, 5, 7, 11, 13, 17, 19, 23, 29]\n",
      "Wall time: 0 ns\n"
     ]
    }
   ],
   "source": [
    "%%time\n",
    "\n",
    "# Encontrando números primos entre 2 e 30 usando loop for e while\n",
    "\n",
    "# Variável para armazenar números primos\n",
    "primos = []\n",
    "\n",
    "# Loop for para percorrer números de 2 a 30\n",
    "for num in range(2,31):\n",
    "    \n",
    "    # Variável de controle\n",
    "    eh_primo = True\n",
    "    \n",
    "    i = 2\n",
    "    while i <= num:\n",
    "        \n",
    "        if i != num:\n",
    "            \n",
    "            if num % i == 0:\n",
    "                eh_primo = False\n",
    "                break\n",
    "        \n",
    "        i += 1\n",
    "        \n",
    "    if eh_primo == True:\n",
    "         primos.append(num)\n",
    "    \n",
    "\n",
    "print(primos)\n",
    "            "
   ]
  }
 ],
 "metadata": {
  "kernelspec": {
   "display_name": "Python 3 (ipykernel)",
   "language": "python",
   "name": "python3"
  },
  "language_info": {
   "codemirror_mode": {
    "name": "ipython",
    "version": 3
   },
   "file_extension": ".py",
   "mimetype": "text/x-python",
   "name": "python",
   "nbconvert_exporter": "python",
   "pygments_lexer": "ipython3",
   "version": "3.9.13"
  }
 },
 "nbformat": 4,
 "nbformat_minor": 5
}

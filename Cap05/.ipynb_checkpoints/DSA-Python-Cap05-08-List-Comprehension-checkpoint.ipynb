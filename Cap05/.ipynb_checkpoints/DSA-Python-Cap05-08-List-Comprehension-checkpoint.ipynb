{
 "cells": [
  {
   "cell_type": "code",
   "execution_count": 2,
   "id": "d4e08df6",
   "metadata": {},
   "outputs": [
    {
     "name": "stdout",
     "output_type": "stream",
     "text": [
      "Versão da Linguagem Python Usada Neste Jupyter Notebook 3.9.13\n"
     ]
    }
   ],
   "source": [
    "from platform import python_version\n",
    "print(\"Versão da Linguagem Python Usada Neste Jupyter Notebook\", python_version())"
   ]
  },
  {
   "cell_type": "markdown",
   "id": "82b34168",
   "metadata": {},
   "source": [
    "# List Comprehension\n",
    "[expressão for item in iterable if condição == True]"
   ]
  },
  {
   "cell_type": "code",
   "execution_count": 3,
   "id": "b2f1de3c",
   "metadata": {},
   "outputs": [
    {
     "data": {
      "text/plain": [
       "[0, 1, 2, 3, 4, 5, 6, 7, 8, 9]"
      ]
     },
     "execution_count": 3,
     "metadata": {},
     "output_type": "execute_result"
    }
   ],
   "source": [
    "# List comprehension que imprime os números até 10\n",
    "[x for x in range(10)]"
   ]
  },
  {
   "cell_type": "code",
   "execution_count": 4,
   "id": "04e1ae49",
   "metadata": {},
   "outputs": [],
   "source": [
    "# List comprehension que imprime os números até 10 e grva em uma lista Python\n",
    "lista_numeros = [x for x in range(10)]"
   ]
  },
  {
   "cell_type": "code",
   "execution_count": 5,
   "id": "c03ab65b",
   "metadata": {},
   "outputs": [
    {
     "name": "stdout",
     "output_type": "stream",
     "text": [
      "[0, 1, 2, 3, 4, 5, 6, 7, 8, 9]\n"
     ]
    }
   ],
   "source": [
    "print(lista_numeros)"
   ]
  },
  {
   "cell_type": "code",
   "execution_count": 15,
   "id": "2a1196d1",
   "metadata": {},
   "outputs": [
    {
     "name": "stdout",
     "output_type": "stream",
     "text": [
      "[0, 1, 2, 3, 4]\n"
     ]
    }
   ],
   "source": [
    "# List comprehension que imprime os números menores que 5 em um intervalo de 1 a 10\n",
    "lista_numeros = [x for x in range(10) if x < 5]\n",
    "print(lista_numeros)"
   ]
  },
  {
   "cell_type": "code",
   "execution_count": 13,
   "id": "5cd4cf7f",
   "metadata": {},
   "outputs": [
    {
     "name": "stdout",
     "output_type": "stream",
     "text": [
      "[1, 2, 3, 4, 5]\n"
     ]
    }
   ],
   "source": [
    "# List comprehension que imprime os números entre 1 e 5 em um intervalo de 1 a 10\n",
    "lista_numeros = [x for x in range(10) if x >= 1 and x <= 5]\n",
    "print(lista_numeros)"
   ]
  },
  {
   "cell_type": "code",
   "execution_count": 27,
   "id": "17d832c6",
   "metadata": {},
   "outputs": [],
   "source": [
    "# Lista de frutas\n",
    "lista_frutas = [\"banana\", \"abacate\", \"melancia\", \"cereja\", \"manga\"]\n",
    "\n",
    "# Nova Lista\n",
    "nova_lista = []"
   ]
  },
  {
   "cell_type": "code",
   "execution_count": 25,
   "id": "c5cbbe5c",
   "metadata": {},
   "outputs": [
    {
     "name": "stdout",
     "output_type": "stream",
     "text": [
      "['melancia', 'manga']\n"
     ]
    }
   ],
   "source": [
    "# Loop tradicional para buscar as palavras com letra \"m\"\n",
    "\n",
    "for fruta in lista_frutas:\n",
    "    if \"m\" in fruta:\n",
    "        nova_lista.append(fruta)\n",
    "        \n",
    "print(nova_lista)"
   ]
  },
  {
   "cell_type": "code",
   "execution_count": 28,
   "id": "f5c2bdb5",
   "metadata": {},
   "outputs": [
    {
     "name": "stdout",
     "output_type": "stream",
     "text": [
      "['melancia', 'manga']\n"
     ]
    }
   ],
   "source": [
    "# Mesmo resultado anterior mas com list comprehension\n",
    "nova_lista = [fruta for fruta in lista_frutas if \"m\" in fruta]\n",
    "print(nova_lista)"
   ]
  },
  {
   "cell_type": "code",
   "execution_count": 33,
   "id": "d1dd2cdd",
   "metadata": {},
   "outputs": [
    {
     "name": "stdout",
     "output_type": "stream",
     "text": [
      "{'Bob': 68, 'Michel': 84, 'Zico': 57, 'Ana': 93}\n"
     ]
    }
   ],
   "source": [
    "# Dict Comprehension\n",
    "\n",
    "# Dicionário de alunos e notas\n",
    "dict_alunos = {\"Bob\": 68, \"Michel\": 84, \"Zico\": 57, \"Ana\": 93}\n",
    "\n",
    "# Criamos um novo dicionário imprimindo os pares de chave: valor\n",
    "dict_alunos_novo = {k:v for (k, v) in dict_alunos.items()}\n",
    "\n",
    "print(dict_alunos_novo)"
   ]
  },
  {
   "cell_type": "code",
   "execution_count": 34,
   "id": "6e6f531b",
   "metadata": {},
   "outputs": [
    {
     "name": "stdout",
     "output_type": "stream",
     "text": [
      "{'Bob': 'Reprovado', 'Michel': 'Aprovado', 'Zico': 'Reprovado', 'Ana': 'Aprovado'}\n"
     ]
    }
   ],
   "source": [
    "# Dict Comprehension\n",
    "\n",
    "# Dicionário de alunos e notas\n",
    "dict_alunos = {\"Bob\": 68, \"Michel\": 84, \"Zico\": 57, \"Ana\": 93}\n",
    "\n",
    "# Criamos um novo dicionário com o status: nota maior que 70, aprovado, senão, reprovado\n",
    "dict_alunos_status = {k: (\"Aprovado\" if v > 70 else \"Reprovado\") for (k, v) in dict_alunos.items()}\n",
    "\n",
    "print(dict_alunos_status)"
   ]
  },
  {
   "cell_type": "code",
   "execution_count": null,
   "id": "2ffce99f",
   "metadata": {},
   "outputs": [],
   "source": []
  }
 ],
 "metadata": {
  "kernelspec": {
   "display_name": "Python 3 (ipykernel)",
   "language": "python",
   "name": "python3"
  },
  "language_info": {
   "codemirror_mode": {
    "name": "ipython",
    "version": 3
   },
   "file_extension": ".py",
   "mimetype": "text/x-python",
   "name": "python",
   "nbconvert_exporter": "python",
   "pygments_lexer": "ipython3",
   "version": "3.9.13"
  }
 },
 "nbformat": 4,
 "nbformat_minor": 5
}

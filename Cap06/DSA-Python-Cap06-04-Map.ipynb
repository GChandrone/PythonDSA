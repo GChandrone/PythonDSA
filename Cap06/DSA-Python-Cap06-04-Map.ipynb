{
 "cells": [
  {
   "cell_type": "markdown",
   "id": "f3cbc880",
   "metadata": {},
   "source": [
    "# Teste"
   ]
  },
  {
   "cell_type": "code",
   "execution_count": 15,
   "id": "82e64e1d",
   "metadata": {},
   "outputs": [],
   "source": [
    "def empresa(codempresa):\n",
    "    if codempresa == '01':\n",
    "        return 'Matriz'\n",
    "    elif codempresa == '05':\n",
    "        return 'Acessórios'\n",
    "    elif codempresa == '08':\n",
    "        return 'Nordeste'\n",
    "    elif codempresa == '10':\n",
    "        return 'Ultraterm'\n",
    "    else:\n",
    "        return 'Não encontrado'"
   ]
  },
  {
   "cell_type": "code",
   "execution_count": 16,
   "id": "51d3942e",
   "metadata": {},
   "outputs": [],
   "source": [
    "list_empresa = ['01','05','08','10','01','09']"
   ]
  },
  {
   "cell_type": "code",
   "execution_count": 17,
   "id": "60082a18",
   "metadata": {},
   "outputs": [],
   "source": [
    "list_desc_empresa = list(map(empresa, list_empresa))"
   ]
  },
  {
   "cell_type": "code",
   "execution_count": 18,
   "id": "ec01c07b",
   "metadata": {},
   "outputs": [
    {
     "name": "stdout",
     "output_type": "stream",
     "text": [
      "['Matriz', 'Acessórios', 'Nordeste', 'Ultraterm', 'Matriz', 'Não encontrado']\n"
     ]
    }
   ],
   "source": [
    "print(list_desc_empresa)"
   ]
  },
  {
   "cell_type": "code",
   "execution_count": 20,
   "id": "1727e469",
   "metadata": {},
   "outputs": [
    {
     "name": "stdout",
     "output_type": "stream",
     "text": [
      "Versão da Linguagem Python Usada Neste Jupyter Notebook 3.9.13\n"
     ]
    }
   ],
   "source": [
    "# Versão da Linguagem Python\n",
    "from platform import python_version\n",
    "print('Versão da Linguagem Python Usada Neste Jupyter Notebook', python_version())"
   ]
  },
  {
   "cell_type": "markdown",
   "id": "583d8590",
   "metadata": {},
   "source": [
    "## Função Map\n",
    "\n",
    "A função map() em Python é uma função que aplica uma determinada função a cada elemento de uma estrutura de dados iterável (como uma lista, tupla ou outro objeto iterável). A função map() retorna um objeto que pode ser convertido em outra estrutura de dados, como uma lista, se necessário."
   ]
  },
  {
   "cell_type": "code",
   "execution_count": 21,
   "id": "6e81fa82",
   "metadata": {},
   "outputs": [],
   "source": [
    "# Função Python que retorna um número ao quadrado\n",
    "def potencia(x):\n",
    "    return x ** 2"
   ]
  },
  {
   "cell_type": "code",
   "execution_count": 22,
   "id": "47d7d861",
   "metadata": {},
   "outputs": [],
   "source": [
    "numeros = [1, 2, 3, 4, 5]"
   ]
  },
  {
   "cell_type": "code",
   "execution_count": 23,
   "id": "ade0955e",
   "metadata": {},
   "outputs": [],
   "source": [
    "numeros_ao_quadrado = list(map(potencia, numeros))"
   ]
  },
  {
   "cell_type": "code",
   "execution_count": 24,
   "id": "215947c6",
   "metadata": {},
   "outputs": [
    {
     "name": "stdout",
     "output_type": "stream",
     "text": [
      "[1, 4, 9, 16, 25]\n"
     ]
    }
   ],
   "source": [
    "print(numeros_ao_quadrado)"
   ]
  },
  {
   "cell_type": "code",
   "execution_count": 35,
   "id": "5c864af7",
   "metadata": {},
   "outputs": [],
   "source": [
    "# Criando duas funções\n",
    "\n",
    "# Função 1 - Recebe uma temperatura como parâmetro e retorna a temperatura em Fahrenheit\n",
    "def fahrenheit(T):\n",
    "    return ((9/5) * T + 32)\n",
    "\n",
    "# Função 2 - Recebe uma temperatura como parâmetro e retorna a temperatura em Celsius\n",
    "def celcius(T):\n",
    "    return (5/9) * (T-32)"
   ]
  },
  {
   "cell_type": "code",
   "execution_count": 28,
   "id": "b9d61120",
   "metadata": {},
   "outputs": [],
   "source": [
    "# Criando uma lista\n",
    "temperaturas = [0, 22.5, 40, 100]"
   ]
  },
  {
   "cell_type": "code",
   "execution_count": 31,
   "id": "166ec9bd",
   "metadata": {},
   "outputs": [
    {
     "data": {
      "text/plain": [
       "<map at 0x266d0f744c0>"
      ]
     },
     "execution_count": 31,
     "metadata": {},
     "output_type": "execute_result"
    }
   ],
   "source": [
    "# Aplicando a função a cada elemento da lista de temperaturas\n",
    "# Em Python 3, a função map() retorna um iterator\n",
    "map(fahrenheit, temperaturas)"
   ]
  },
  {
   "cell_type": "code",
   "execution_count": 30,
   "id": "c9afb48b",
   "metadata": {},
   "outputs": [
    {
     "data": {
      "text/plain": [
       "[32.0, 72.5, 104.0, 212.0]"
      ]
     },
     "execution_count": 30,
     "metadata": {},
     "output_type": "execute_result"
    }
   ],
   "source": [
    "# Função map() retornando a lista de temperaturas convertidas em Fahrenheit\n",
    "list(map(fahrenheit, temperaturas))"
   ]
  },
  {
   "cell_type": "code",
   "execution_count": 34,
   "id": "8b08aa23",
   "metadata": {},
   "outputs": [
    {
     "name": "stdout",
     "output_type": "stream",
     "text": [
      "32.0\n",
      "72.5\n",
      "104.0\n",
      "212.0\n"
     ]
    }
   ],
   "source": [
    "# Usando um loop for para imprimir o resultado da função map()\n",
    "for temp in map(fahrenheit, temperaturas):\n",
    "    print (temp)"
   ]
  },
  {
   "cell_type": "code",
   "execution_count": 36,
   "id": "d3fc6367",
   "metadata": {},
   "outputs": [
    {
     "data": {
      "text/plain": [
       "<map at 0x266d1a4bf10>"
      ]
     },
     "execution_count": 36,
     "metadata": {},
     "output_type": "execute_result"
    }
   ],
   "source": [
    "# Convertendo para Celcius\n",
    "map(celcius, temperaturas)"
   ]
  },
  {
   "cell_type": "code",
   "execution_count": 37,
   "id": "653e2cb8",
   "metadata": {},
   "outputs": [
    {
     "data": {
      "text/plain": [
       "[-17.77777777777778, -5.277777777777778, 4.444444444444445, 37.77777777777778]"
      ]
     },
     "execution_count": 37,
     "metadata": {},
     "output_type": "execute_result"
    }
   ],
   "source": [
    "list(map(celcius, temperaturas))"
   ]
  },
  {
   "cell_type": "code",
   "execution_count": 38,
   "id": "4e40898b",
   "metadata": {},
   "outputs": [
    {
     "data": {
      "text/plain": [
       "<map at 0x266cebe6f70>"
      ]
     },
     "execution_count": 38,
     "metadata": {},
     "output_type": "execute_result"
    }
   ],
   "source": [
    "# Usando a expressão Lambda\n",
    "map(lambda x: (5/9) * (x-32), temperaturas)"
   ]
  },
  {
   "cell_type": "code",
   "execution_count": 39,
   "id": "7b9764fd",
   "metadata": {},
   "outputs": [
    {
     "data": {
      "text/plain": [
       "[-17.77777777777778, -5.277777777777778, 4.444444444444445, 37.77777777777778]"
      ]
     },
     "execution_count": 39,
     "metadata": {},
     "output_type": "execute_result"
    }
   ],
   "source": [
    "list(map(lambda x: (5/9) * (x-32), temperaturas))"
   ]
  },
  {
   "cell_type": "code",
   "execution_count": 40,
   "id": "87c27058",
   "metadata": {},
   "outputs": [],
   "source": [
    "# Somando os elementos de 2 listas\n",
    "a = [1, 2, 3, 4]\n",
    "b = [5, 6, 7, 8]"
   ]
  },
  {
   "cell_type": "code",
   "execution_count": 42,
   "id": "4a457e09",
   "metadata": {},
   "outputs": [
    {
     "data": {
      "text/plain": [
       "[6, 8, 10, 12]"
      ]
     },
     "execution_count": 42,
     "metadata": {},
     "output_type": "execute_result"
    }
   ],
   "source": [
    "list(map(lambda a,b: a+b, a, b))"
   ]
  },
  {
   "cell_type": "code",
   "execution_count": 43,
   "id": "f84baf9e",
   "metadata": {},
   "outputs": [],
   "source": [
    "# Somando os 3 elementos de 3 listas\n",
    "a = [1, 2, 3, 4]\n",
    "b = [5, 6, 7, 8]\n",
    "c = [9, 10, 11, 12]"
   ]
  },
  {
   "cell_type": "code",
   "execution_count": 44,
   "id": "d11574e9",
   "metadata": {},
   "outputs": [
    {
     "data": {
      "text/plain": [
       "[15, 18, 21, 24]"
      ]
     },
     "execution_count": 44,
     "metadata": {},
     "output_type": "execute_result"
    }
   ],
   "source": [
    "list(map(lambda a,b,c: a+b+c, a, b, c))"
   ]
  },
  {
   "cell_type": "code",
   "execution_count": null,
   "id": "798a3104",
   "metadata": {},
   "outputs": [],
   "source": []
  }
 ],
 "metadata": {
  "kernelspec": {
   "display_name": "Python 3 (ipykernel)",
   "language": "python",
   "name": "python3"
  },
  "language_info": {
   "codemirror_mode": {
    "name": "ipython",
    "version": 3
   },
   "file_extension": ".py",
   "mimetype": "text/x-python",
   "name": "python",
   "nbconvert_exporter": "python",
   "pygments_lexer": "ipython3",
   "version": "3.9.13"
  }
 },
 "nbformat": 4,
 "nbformat_minor": 5
}

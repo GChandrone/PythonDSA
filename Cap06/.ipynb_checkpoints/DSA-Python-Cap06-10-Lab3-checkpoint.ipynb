{
 "cells": [
  {
   "cell_type": "code",
   "execution_count": 2,
   "id": "458dc25a",
   "metadata": {},
   "outputs": [
    {
     "name": "stdout",
     "output_type": "stream",
     "text": [
      "Versão da Linguagem Python Usada Neste Jupyter Notebook: 3.9.13\n"
     ]
    }
   ],
   "source": [
    "from platform import python_version\n",
    "print('Versão da Linguagem Python Usada Neste Jupyter Notebook:', python_version())"
   ]
  },
  {
   "cell_type": "markdown",
   "id": "6bbc3501",
   "metadata": {},
   "source": [
    "## Expressões Regulares\n",
    "\n",
    "Expressões regulares são padrões usados para combinar ou encontrar ocorrências de sequências de caracteres em uma string. Em Python, expressões regulares são geralmente usadas para manipular strings e realizar tarefas como validação de entrada de dados, extração de informações de strings e substituição de texto."
   ]
  },
  {
   "cell_type": "code",
   "execution_count": 4,
   "id": "1976e18a",
   "metadata": {},
   "outputs": [],
   "source": [
    "# re -> regular expression\n",
    "import re"
   ]
  },
  {
   "cell_type": "code",
   "execution_count": 22,
   "id": "7c7b1480",
   "metadata": {},
   "outputs": [],
   "source": [
    "texto = 'Meu e-mail é exemplo@gmail.com e você pode me contatar em outro_email@yahoo.com'"
   ]
  },
  {
   "cell_type": "code",
   "execution_count": 23,
   "id": "e6ea9c8f",
   "metadata": {},
   "outputs": [],
   "source": [
    "# Expressão regular para contar quantas vezes o caracter arroba aparece no texto\n",
    "resultado = len(re.findall('@', texto)) # len, retorna o comprimento\n",
    "teste = re.findall('@', texto)"
   ]
  },
  {
   "cell_type": "code",
   "execution_count": 25,
   "id": "28e685ec",
   "metadata": {},
   "outputs": [
    {
     "name": "stdout",
     "output_type": "stream",
     "text": [
      "O caractere @ apareceu 2 vezes no texto.\n",
      "['@', '@']\n"
     ]
    }
   ],
   "source": [
    "print(\"O caractere\", teste[0] ,\"apareceu\", resultado, \"vezes no texto.\")\n",
    "print(teste)"
   ]
  },
  {
   "cell_type": "code",
   "execution_count": 17,
   "id": "53a322f1",
   "metadata": {},
   "outputs": [],
   "source": [
    "# Expressão regular para extrair a palavra que aparece após a palavra \"você\" em um texto\n",
    "resultado = re.findall(r'você (\\w+)', texto)"
   ]
  },
  {
   "cell_type": "code",
   "execution_count": 20,
   "id": "f1d9880b",
   "metadata": {},
   "outputs": [
    {
     "name": "stdout",
     "output_type": "stream",
     "text": [
      "A palavra após 'você' é: pode\n"
     ]
    }
   ],
   "source": [
    "print(\"A palavra após 'você' é:\", resultado[0]) # coloca a indexação pois retorna uma lista"
   ]
  },
  {
   "cell_type": "markdown",
   "id": "e426f73e",
   "metadata": {},
   "source": [
    "Nota: O r antes da string que representa a expressão regular em Python é usado para indicar que a string é uma string literal raw. Isso significa que as barras invertidas (\\) não são interpretadas como caracteres de escape, mas são incluídas na expressão regular como parte do padrão."
   ]
  }
 ],
 "metadata": {
  "kernelspec": {
   "display_name": "Python 3 (ipykernel)",
   "language": "python",
   "name": "python3"
  },
  "language_info": {
   "codemirror_mode": {
    "name": "ipython",
    "version": 3
   },
   "file_extension": ".py",
   "mimetype": "text/x-python",
   "name": "python",
   "nbconvert_exporter": "python",
   "pygments_lexer": "ipython3",
   "version": "3.9.13"
  }
 },
 "nbformat": 4,
 "nbformat_minor": 5
}

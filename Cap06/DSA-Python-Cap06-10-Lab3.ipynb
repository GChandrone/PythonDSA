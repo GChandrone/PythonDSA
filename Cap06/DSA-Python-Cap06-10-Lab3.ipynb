{
 "cells": [
  {
   "cell_type": "code",
   "execution_count": 1,
   "id": "458dc25a",
   "metadata": {},
   "outputs": [
    {
     "name": "stdout",
     "output_type": "stream",
     "text": [
      "Versão da Linguagem Python Usada Neste Jupyter Notebook: 3.9.13\n"
     ]
    }
   ],
   "source": [
    "from platform import python_version\n",
    "print('Versão da Linguagem Python Usada Neste Jupyter Notebook:', python_version())"
   ]
  },
  {
   "cell_type": "markdown",
   "id": "6bbc3501",
   "metadata": {},
   "source": [
    "## Expressões Regulares\n",
    "\n",
    "Expressões regulares são padrões usados para combinar ou encontrar ocorrências de sequências de caracteres em uma string. Em Python, expressões regulares são geralmente usadas para manipular strings e realizar tarefas como validação de entrada de dados, extração de informações de strings e substituição de texto."
   ]
  },
  {
   "cell_type": "code",
   "execution_count": 2,
   "id": "1976e18a",
   "metadata": {},
   "outputs": [],
   "source": [
    "# re -> regular expression\n",
    "import re"
   ]
  },
  {
   "cell_type": "code",
   "execution_count": 3,
   "id": "7c7b1480",
   "metadata": {},
   "outputs": [],
   "source": [
    "texto = 'Meu e-mail é exemplo@gmail.com e você pode me contatar em outro_email@yahoo.com'"
   ]
  },
  {
   "cell_type": "code",
   "execution_count": 4,
   "id": "e6ea9c8f",
   "metadata": {},
   "outputs": [],
   "source": [
    "# Expressão regular para contar quantas vezes o caracter arroba aparece no texto\n",
    "resultado = len(re.findall('@', texto)) # len, retorna o comprimento\n",
    "teste = re.findall('@', texto)"
   ]
  },
  {
   "cell_type": "code",
   "execution_count": 5,
   "id": "28e685ec",
   "metadata": {},
   "outputs": [
    {
     "name": "stdout",
     "output_type": "stream",
     "text": [
      "O caractere @ apareceu 2 vezes no texto.\n",
      "['@', '@']\n"
     ]
    }
   ],
   "source": [
    "print(\"O caractere\", teste[0] ,\"apareceu\", resultado, \"vezes no texto.\")\n",
    "print(teste)"
   ]
  },
  {
   "cell_type": "code",
   "execution_count": 6,
   "id": "53a322f1",
   "metadata": {},
   "outputs": [],
   "source": [
    "# Expressão regular para extrair a palavra que aparece após a palavra \"você\" em um texto\n",
    "resultado = re.findall(r'você (\\w+)', texto)"
   ]
  },
  {
   "cell_type": "code",
   "execution_count": 7,
   "id": "f1d9880b",
   "metadata": {},
   "outputs": [
    {
     "name": "stdout",
     "output_type": "stream",
     "text": [
      "A palavra após 'você' é: pode\n"
     ]
    }
   ],
   "source": [
    "print(\"A palavra após 'você' é:\", resultado[0]) # coloca a indexação pois retorna uma lista"
   ]
  },
  {
   "cell_type": "markdown",
   "id": "e426f73e",
   "metadata": {},
   "source": [
    "Nota: O r antes da string que representa a expressão regular em Python é usado para indicar que a string é uma string literal raw. Isso significa que as barras invertidas (\\) não são interpretadas como caracteres de escape, mas são incluídas na expressão regular como parte do padrão."
   ]
  },
  {
   "cell_type": "code",
   "execution_count": 8,
   "id": "6de0d9a3",
   "metadata": {},
   "outputs": [],
   "source": [
    "# Expressão regular para extrair endereços de e-mail de uma string\n",
    "emails = re.findall(r'\\b[A-Za-z0-9._%+-]+@[A-Za-z0-9.-]+\\.[A-Z|a-z]{2,}\\b', texto)"
   ]
  },
  {
   "cell_type": "code",
   "execution_count": 9,
   "id": "2db7162c",
   "metadata": {},
   "outputs": [
    {
     "name": "stdout",
     "output_type": "stream",
     "text": [
      "['exemplo@gmail.com', 'outro_email@yahoo.com']\n"
     ]
    }
   ],
   "source": [
    "print(emails)"
   ]
  },
  {
   "cell_type": "code",
   "execution_count": 10,
   "id": "905bcadb",
   "metadata": {},
   "outputs": [],
   "source": [
    "text = 'O aluno estava incrivelmente perdido, mas encontrou a DSA e rapidamente começou a aprender'"
   ]
  },
  {
   "cell_type": "code",
   "execution_count": 11,
   "id": "5bc0f46e",
   "metadata": {},
   "outputs": [
    {
     "name": "stdout",
     "output_type": "stream",
     "text": [
      "15 - 28 : incrivelmente\n",
      "60 - 71 : rapidamente\n"
     ]
    }
   ],
   "source": [
    "# Extraindo os advérbios da frase print(item.start(), '-', item.end(), item)\n",
    "for item in re.finditer(r'\\w+mente\\b', text):\n",
    "    print(item.start(), '-', item.end(), ':', item.group())"
   ]
  },
  {
   "cell_type": "markdown",
   "id": "4bd8cf30",
   "metadata": {},
   "source": [
    "## REGEX com ChatGPT\n",
    "\n",
    "Música: Tempo Perdido\n",
    "\n",
    "Legião Urbana"
   ]
  },
  {
   "cell_type": "code",
   "execution_count": 12,
   "id": "cf0af473",
   "metadata": {},
   "outputs": [],
   "source": [
    "# Variável do tipo string\n",
    "musica = '''\n",
    "Todos os dias quando acordo\n",
    "Não tenho mais\n",
    "O tempo que passou\n",
    "Mas tenho muito tempo\n",
    "Temos todo o tempo do mundo\n",
    "Todos os dias\n",
    "Antes de dormir\n",
    "Lembro e esqueço\n",
    "Como foi o dia\n",
    "Sempre em frente\n",
    "Não temos tempo a perder\n",
    "Nosso suor sagrado\n",
    "É bem mais belo\n",
    "Que esse sangue amargo\n",
    "E tão sério\n",
    "E selvagem! Selvagem!\n",
    "Selvagem!\n",
    "Veja o sol\n",
    "Dessa manhã tão cinza\n",
    "A tempestade que chega\n",
    "É da cor dos teus olhos\n",
    "Castanhos\n",
    "Então me abraça forte\n",
    "E diz mais uma vez\n",
    "Que já estamos\n",
    "Distantes de tudo\n",
    "Temos nosso próprio tempo\n",
    "Temos nosso próprio tempo\n",
    "Temos nosso próprio tempo\n",
    "Não tenho medo do escuro\n",
    "Mas deixe as luzes\n",
    "Acesas agora\n",
    "O que foi escondido\n",
    "É o que se escondeu\n",
    "E o que foi prometido\n",
    "Ninguém prometeu\n",
    "Nem foi tempo perdido\n",
    "Somos tão jovens\n",
    "Tão jovens! Tão jovens!\n",
    "'''"
   ]
  },
  {
   "cell_type": "code",
   "execution_count": 13,
   "id": "e6f81cdd",
   "metadata": {},
   "outputs": [
    {
     "name": "stdout",
     "output_type": "stream",
     "text": [
      "\n",
      "Todos os dias quando acordo\n",
      "Não tenho mais\n",
      "O tempo que passou\n",
      "Mas tenho muito tempo\n",
      "Temos todo o tempo do mundo\n",
      "Todos os dias\n",
      "Antes de dormir\n",
      "Lembro e esqueço\n",
      "Como foi o dia\n",
      "Sempre em frente\n",
      "Não temos tempo a perder\n",
      "Nosso suor sagrado\n",
      "É bem mais belo\n",
      "Que esse sangue amargo\n",
      "E tão sério\n",
      "E selvagem! Selvagem!\n",
      "Selvagem!\n",
      "Veja o sol\n",
      "Dessa manhã tão cinza\n",
      "A tempestade que chega\n",
      "É da cor dos teus olhos\n",
      "Castanhos\n",
      "Então me abraça forte\n",
      "E diz mais uma vez\n",
      "Que já estamos\n",
      "Distantes de tudo\n",
      "Temos nosso próprio tempo\n",
      "Temos nosso próprio tempo\n",
      "Temos nosso próprio tempo\n",
      "Não tenho medo do escuro\n",
      "Mas deixe as luzes\n",
      "Acesas agora\n",
      "O que foi escondido\n",
      "É o que se escondeu\n",
      "E o que foi prometido\n",
      "Ninguém prometeu\n",
      "Nem foi tempo perdido\n",
      "Somos tão jovens\n",
      "Tão jovens! Tão jovens!\n",
      "\n"
     ]
    }
   ],
   "source": [
    "print(musica)"
   ]
  },
  {
   "cell_type": "code",
   "execution_count": 14,
   "id": "b3d237a3",
   "metadata": {},
   "outputs": [],
   "source": [
    "# 1- Crie um REGEX para contar quantas vezes o caracter \"a\" aparece em todo o texto da música.\n",
    "# 2- Crie um REGEX em Python para contar quantas vezes a palavra tempo aparece na música.\n",
    "# 3- Crie um REGEX em Python para extrair as palavras seguidas por exclamação.\n",
    "# 4- Crie um REGEX que extrai qualquer palavra cujo antecessor seja a palavra \"esse\" e o sucessor seja a palavra \"amargo\" em um texto.\n",
    "# 5- Crie um REGEX que retorne as palavras com acento, mas somente os caracteres na palavra que são anteriores ao caracter com acento."
   ]
  },
  {
   "cell_type": "markdown",
   "id": "0b9bb628",
   "metadata": {},
   "source": [
    "### Minha solução"
   ]
  },
  {
   "cell_type": "code",
   "execution_count": 15,
   "id": "63f85677",
   "metadata": {},
   "outputs": [
    {
     "name": "stdout",
     "output_type": "stream",
     "text": [
      "A letra 'a' aparece 39 vezes na Música!\n"
     ]
    }
   ],
   "source": [
    "# 1° Exercício:\n",
    "qtd_A = len(re.findall('a', musica))\n",
    "print(\"A letra 'a' aparece\", qtd_A, \"vezes na Música!\")"
   ]
  },
  {
   "cell_type": "code",
   "execution_count": 16,
   "id": "ca9265da",
   "metadata": {},
   "outputs": [
    {
     "name": "stdout",
     "output_type": "stream",
     "text": [
      "A palavra 'tempo' aparece 8 vezes na Música!\n"
     ]
    }
   ],
   "source": [
    "# 2° Exercício:\n",
    "tempo = len(re.findall('tempo', musica))\n",
    "print(\"A palavra 'tempo' aparece\", tempo, \"vezes na Música!\")"
   ]
  },
  {
   "cell_type": "code",
   "execution_count": 17,
   "id": "da15f070",
   "metadata": {},
   "outputs": [
    {
     "name": "stdout",
     "output_type": "stream",
     "text": [
      "Palavras seguidas por !:\n",
      "-> selvagem\n",
      "-> Selvagem\n",
      "-> Selvagem\n",
      "-> jovens\n",
      "-> jovens\n"
     ]
    }
   ],
   "source": [
    "# 3° Exercício:\n",
    "print(\"Palavras seguidas por !:\")\n",
    "for palavra in re.findall(r'(\\w+)!', musica):\n",
    "    print('->', palavra)"
   ]
  },
  {
   "cell_type": "code",
   "execution_count": 18,
   "id": "ca617453",
   "metadata": {},
   "outputs": [
    {
     "name": "stdout",
     "output_type": "stream",
     "text": [
      "sangue\n"
     ]
    }
   ],
   "source": [
    "# 4° Exercício:\n",
    "for palavra in re.findall(r'esse (\\w+) amargo', musica):\n",
    "    print(palavra)"
   ]
  },
  {
   "cell_type": "code",
   "execution_count": 19,
   "id": "f186c4c3",
   "metadata": {},
   "outputs": [],
   "source": [
    "# 5° Exercícioo: Não consegui fazer"
   ]
  },
  {
   "cell_type": "markdown",
   "id": "abf03a19",
   "metadata": {},
   "source": [
    "### Solução do ChatGPT"
   ]
  },
  {
   "cell_type": "code",
   "execution_count": 20,
   "id": "723d15c1",
   "metadata": {},
   "outputs": [
    {
     "name": "stdout",
     "output_type": "stream",
     "text": [
      "O caractere 'a' aparece 39 vezes no texto.\n"
     ]
    }
   ],
   "source": [
    "# 1- Crie um REGEX para contar quantas vezes o caracter \"a\" aparece em todo o texto da música.\n",
    "match = re.findall(\"a\", musica)\n",
    "count = len(match)\n",
    "print(\"O caractere 'a' aparece\", count, \"vezes no texto.\")"
   ]
  },
  {
   "cell_type": "code",
   "execution_count": 21,
   "id": "180ba8d1",
   "metadata": {},
   "outputs": [
    {
     "name": "stdout",
     "output_type": "stream",
     "text": [
      "A palavra 'tempo' aparece 8 vezes no texto.\n"
     ]
    }
   ],
   "source": [
    "# 2- Crie um REGEX em Python para contar quantas vezes a palavra tempo aparece na música.\n",
    "match = re.findall(r\"\\btempo\\b\", musica)\n",
    "count = len(match)\n",
    "print(\"A palavra 'tempo' aparece\", count, \"vezes no texto.\")"
   ]
  },
  {
   "cell_type": "code",
   "execution_count": 22,
   "id": "b5cc881d",
   "metadata": {},
   "outputs": [
    {
     "name": "stdout",
     "output_type": "stream",
     "text": [
      "As palavras seguidas por exclamação são: []\n"
     ]
    }
   ],
   "source": [
    "# 3- Crie um REGEX em Python para extrair as palavras seguidas por exclamação.\n",
    "match = re.findall(r\"\\b\\w+!\\b\", musica)\n",
    "print(\"As palavras seguidas por exclamação são:\", match)"
   ]
  },
  {
   "cell_type": "code",
   "execution_count": 23,
   "id": "040a420c",
   "metadata": {},
   "outputs": [
    {
     "name": "stdout",
     "output_type": "stream",
     "text": [
      "Palavras entre 'esse' e 'amargo': ['sangue']\n"
     ]
    }
   ],
   "source": [
    "# 4- Crie um REGEX que extrai qualquer palavra cujo antecessor seja a palavra \"esse\" e \n",
    "# o sucessor seja a palavra \"amargo\" em um texto.\n",
    "resultado = re.findall(r\"esse\\s(\\w+)\\samargo\", musica)\n",
    "print(\"Palavras entre 'esse' e 'amargo':\", resultado)"
   ]
  },
  {
   "cell_type": "code",
   "execution_count": 31,
   "id": "3fbc1cb3",
   "metadata": {},
   "outputs": [
    {
     "name": "stdout",
     "output_type": "stream",
     "text": [
      "Partes das palavras com acentos: []\n"
     ]
    }
   ],
   "source": [
    "# 5- Crie um REGEX que retorne as palavras com acento, mas somente os caracteres na palavra que \n",
    "# são anteriores ao caracter com acento.\n",
    "resultado = re.findall(r\"(\\w+)\\b[áéíóú]\", musica)\n",
    "print(\"Partes das palavras com acentos:\", resultado)"
   ]
  },
  {
   "cell_type": "code",
   "execution_count": 32,
   "id": "0bce03ea",
   "metadata": {},
   "outputs": [
    {
     "name": "stdout",
     "output_type": "stream",
     "text": [
      "Palavras com acento, sem o acento: ['N', 'esque', 'N', 't', 's', 'manh', 't', 'Ent', 'abra', 'j', 'pr', 'pr', 'pr', 'N', 'Ningu', 't', 'T', 'T']\n"
     ]
    }
   ],
   "source": [
    "# 5- Crie um REGEX que retorne as palavras com acento, mas somente os caracteres na palavra que \n",
    "# são anteriores ao caracter com acento.\n",
    "resultado = re.findall(r\"(\\w+)[\\u00C0-\\u017F]+\", musica)\n",
    "print(\"Palavras com acento, sem o acento:\", resultado)"
   ]
  },
  {
   "cell_type": "markdown",
   "id": "ac1ad827",
   "metadata": {},
   "source": [
    "### Solução do Professor"
   ]
  },
  {
   "cell_type": "code",
   "execution_count": 25,
   "id": "1098c12d",
   "metadata": {},
   "outputs": [
    {
     "name": "stdout",
     "output_type": "stream",
     "text": [
      "O caractere 'a' apareceu 39 vezes na música.\n"
     ]
    }
   ],
   "source": [
    "# 1- Crie um REGEX para contar quantas vezes o caracter \"a\" aparece em todo o texto da música.\n",
    "resultado1 = len(re.findall(\"a\", musica))\n",
    "print(\"O caractere 'a' apareceu\", resultado1, \"vezes na música.\")"
   ]
  },
  {
   "cell_type": "code",
   "execution_count": 26,
   "id": "73935f49",
   "metadata": {},
   "outputs": [
    {
     "name": "stdout",
     "output_type": "stream",
     "text": [
      "A palavra 'tempo' apareceu 8 vezes na música.\n"
     ]
    }
   ],
   "source": [
    "# 2- Crie um REGEX em Python para contar quantas vezes a palavra tempo aparece na música.\n",
    "resultado2 = len(re.findall(\"tempo\", musica))\n",
    "print(\"A palavra 'tempo' apareceu\", resultado2, \"vezes na música.\")"
   ]
  },
  {
   "cell_type": "code",
   "execution_count": 27,
   "id": "c5ef09d2",
   "metadata": {},
   "outputs": [
    {
     "name": "stdout",
     "output_type": "stream",
     "text": [
      "Estas são as palavras seguidas por exclamação: ['selvagem!', 'Selvagem!', 'Selvagem!', 'jovens!', 'jovens!']\n"
     ]
    }
   ],
   "source": [
    "# 3- Crie um REGEX em Python para extrair as palavras seguidas por exclamação.\n",
    "resultado3 = re.findall(r'\\b\\w+!', musica)\n",
    "print(\"Estas são as palavras seguidas por exclamação:\", resultado3)"
   ]
  },
  {
   "cell_type": "code",
   "execution_count": 33,
   "id": "5eb0b2a1",
   "metadata": {},
   "outputs": [
    {
     "name": "stdout",
     "output_type": "stream",
     "text": [
      "Palavra(s) encontrada(s): ['sangue']\n"
     ]
    }
   ],
   "source": [
    "# 4- Crie um REGEX que extrai qualquer palavra cujo antecessor seja a palavra \"esse\" e \n",
    "# o sucessor seja a palavra \"amargo\" em um texto.\n",
    "resultado4 = re.findall(r'\\besse\\s(\\w+)\\samargo\\b', musica)\n",
    "print(\"Palavra(s) encontrada(s):\", resultado4)"
   ]
  },
  {
   "cell_type": "code",
   "execution_count": 34,
   "id": "25166a81",
   "metadata": {},
   "outputs": [
    {
     "name": "stdout",
     "output_type": "stream",
     "text": [
      "As palavras acentuadas são: ['Nã', 'esqueç', 'Nã', 'tã', 'sé', 'manhã', 'tã', 'Entã', 'abraç', 'já', 'pró', 'pró', 'pró', 'Nã', 'Ningué', 'tã', 'Tã', 'Tã']\n"
     ]
    }
   ],
   "source": [
    "# 5- Crie um REGEX que retorne as palavras com acento, mas somente os caracteres na palavra que \n",
    "# são anteriores ao caracter com acento.\n",
    "resultado5 = re.findall(r'\\b[\\wÀ-ÿ]+[áéíóúãõç]', musica)\n",
    "print(\"As palavras acentuadas são:\", resultado5)"
   ]
  }
 ],
 "metadata": {
  "kernelspec": {
   "display_name": "Python 3 (ipykernel)",
   "language": "python",
   "name": "python3"
  },
  "language_info": {
   "codemirror_mode": {
    "name": "ipython",
    "version": 3
   },
   "file_extension": ".py",
   "mimetype": "text/x-python",
   "name": "python",
   "nbconvert_exporter": "python",
   "pygments_lexer": "ipython3",
   "version": "3.9.13"
  }
 },
 "nbformat": 4,
 "nbformat_minor": 5
}

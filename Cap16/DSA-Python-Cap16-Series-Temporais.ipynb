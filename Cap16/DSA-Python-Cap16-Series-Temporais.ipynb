{
 "cells": [
  {
   "cell_type": "markdown",
   "id": "b53aceb2",
   "metadata": {},
   "source": [
    "# <font color='blue'>Data Science Academy</font>\n",
    "\n",
    "## <font color='blue'>Fundamentos de Linguagem Python Para Análise de Dados e Data Science</font>\n",
    "\n",
    "## <font color='blue'>Análise de Séries Temporais em Python</font>\n",
    "\n",
    "Problema de Negócio:\n",
    "\n",
    "Usando dados históricos das vendas ao longo de 2023 seria possível prever o total de vendas em Janeiro/2024?"
   ]
  },
  {
   "cell_type": "markdown",
   "id": "5f07eb00",
   "metadata": {},
   "source": [
    "![DSA](imagens/dsa_cap16.png)"
   ]
  },
  {
   "cell_type": "code",
   "execution_count": 3,
   "id": "ec1bc446",
   "metadata": {},
   "outputs": [
    {
     "name": "stdout",
     "output_type": "stream",
     "text": [
      "Versão da Linguagem Python Usada Neste Jupyter Notebook: 3.9.13\n"
     ]
    }
   ],
   "source": [
    "# Versão da Linguagem Python\n",
    "from platform import python_version\n",
    "print('Versão da Linguagem Python Usada Neste Jupyter Notebook:', python_version())"
   ]
  }
 ],
 "metadata": {
  "kernelspec": {
   "display_name": "Python 3 (ipykernel)",
   "language": "python",
   "name": "python3"
  },
  "language_info": {
   "codemirror_mode": {
    "name": "ipython",
    "version": 3
   },
   "file_extension": ".py",
   "mimetype": "text/x-python",
   "name": "python",
   "nbconvert_exporter": "python",
   "pygments_lexer": "ipython3",
   "version": "3.9.13"
  }
 },
 "nbformat": 4,
 "nbformat_minor": 5
}
